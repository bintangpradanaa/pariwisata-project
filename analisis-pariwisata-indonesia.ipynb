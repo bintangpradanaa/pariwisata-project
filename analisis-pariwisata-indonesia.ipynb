{
 "cells": [
  {
   "cell_type": "code",
   "execution_count": 1,
   "id": "79f1c62b-f7f9-42c1-ae7d-648d466517b4",
   "metadata": {},
   "outputs": [],
   "source": [
    "import pandas as pd\n",
    "import numpy as np\n",
    "import seaborn as sns\n",
    "import matplotlib.pyplot as plt"
   ]
  },
  {
   "cell_type": "code",
   "execution_count": 2,
   "id": "784f20a5-cdee-4fe0-859e-8634dd448b16",
   "metadata": {
    "scrolled": true
   },
   "outputs": [],
   "source": [
    "# Import data\n",
    "\n",
    "kontribusi_pdb = pd.read_csv('https://docs.google.com/spreadsheets/d/e/2PACX-1vT8iE1Ad5jXNE-H2q9qbkFZu4880rox7emIcbGyIO4YCuOQSpvKmuVqSMxZFcHJkeEmAIb_tOyOxXuM/pub?gid=1545651756&single=true&output=csv')\n",
    "devisa = pd.read_csv('https://docs.google.com/spreadsheets/d/e/2PACX-1vQy8potYfuEl1wQqjXRFC4br5SYZqRdrvebeOKZQeF7c2W8ZNcpfa89NM-db6_x7cP_P7LW8SaUVbyw/pub?gid=817736906&single=true&output=csv')\n",
    "kunjungan_wisman = pd.read_csv('https://docs.google.com/spreadsheets/d/e/2PACX-1vRzjtkBbX6dGavfqFqhGmLvVVXi7MOmGRQIETwxA9w95-sh9Vmenq7UNoAFzdLKboOcSHX5T-5j-IOG/pub?gid=1252955691&single=true&output=csv')\n",
    "wisman_per_pintu_masuk = pd.read_csv('https://docs.google.com/spreadsheets/d/e/2PACX-1vTlHom2fhNefsOYiq56J_ANGl5qLByGLnD2scOmRW6JfzWI92FgbUhsT5kyWMjsysIO9gErBjBBqrzB/pub?gid=1140289420&single=true&output=csv')\n",
    "wisnus_per_tujuan = pd.read_csv('https://docs.google.com/spreadsheets/d/e/2PACX-1vS3_oSEgKxgImAdVgE-yZ2Lqo9rRQqvZILTe4wkj4DuqBdpDOLIQWpzjexCEvbpFJnzhGGgXyyguvI_/pub?gid=1127350039&single=true&output=csv')\n",
    "tpk_hotel = pd.read_csv('https://docs.google.com/spreadsheets/d/e/2PACX-1vS0CG6a7AT-t_Y7pNSROV7wk87k3rHelcKGh6Ci_PTboGfPTUGTh4EqiEO2YY-C9CAfR0mR7mAi0BVS/pub?gid=1585487888&single=true&output=csv')\n",
    "hotel_akomodasi_kamar = pd.read_csv('https://docs.google.com/spreadsheets/d/e/2PACX-1vSs7ogde93nAZMymVWAWq3bfWKuqwvby9ZYvjeRbtWDIDoaDv3majjOMoTeW2PYXITlD_4SIGeIRZul/pub?gid=1328289260&single=true&output=csv')\n",
    "asean_wisatawan = pd.read_csv('https://docs.google.com/spreadsheets/d/e/2PACX-1vTJ5wWR7Nn2nfMFJ4bnQLRABIMJGGokt5Xnpu7P8_0e15SXlTgeanW1_aZ32oj0FlONJRho4sPK_B5w/pub?gid=997253045&single=true&output=csv')\n",
    "status_pariwisata = pd.read_csv('https://docs.google.com/spreadsheets/d/e/2PACX-1vSnD_dRmw-m1uSpBk5H4mYjOPWIcemuRXqAb151KCUNEX342W7rjvUR5sZuXOAjcm1MdL10kZyh8cSi/pub?gid=1209728406&single=true&output=csv')\n",
    "dtw_sisparnas = pd.read_csv('https://docs.google.com/spreadsheets/d/e/2PACX-1vQA6KoarZJtOIgFNWZ-YN06htkDWJusN3ZK_1sUC3ml3hBgbZV-tQH8e1eqiRptQLAyCzCzF6THtEFv/pub?gid=417353498&single=true&output=csv')\n",
    "jenis_dtw_pariwisata = pd.read_csv('https://docs.google.com/spreadsheets/d/e/2PACX-1vRGbAGJLm-F9TY2TpeoGVMg0ydSKkFLolg_sG2Kr-sTGhAJX8WbSetWxr63CrZuT4XJyl_llvwVLj53/pub?gid=188056455&single=true&output=csv')\n"
   ]
  },
  {
   "cell_type": "markdown",
   "id": "8ca7f0ba-0604-49ed-87a2-d06b67e3618e",
   "metadata": {},
   "source": [
    "### Kontribusi Pariwisata terhadap Ekonomi Indonesia"
   ]
  },
  {
   "cell_type": "code",
   "execution_count": 3,
   "id": "2faba84c-a409-43ac-9bac-f2305f5e6c3e",
   "metadata": {},
   "outputs": [
    {
     "data": {
      "text/html": [
       "<div>\n",
       "<style scoped>\n",
       "    .dataframe tbody tr th:only-of-type {\n",
       "        vertical-align: middle;\n",
       "    }\n",
       "\n",
       "    .dataframe tbody tr th {\n",
       "        vertical-align: top;\n",
       "    }\n",
       "\n",
       "    .dataframe thead th {\n",
       "        text-align: right;\n",
       "    }\n",
       "</style>\n",
       "<table border=\"1\" class=\"dataframe\">\n",
       "  <thead>\n",
       "    <tr style=\"text-align: right;\">\n",
       "      <th></th>\n",
       "      <th>tahun</th>\n",
       "      <th>persentase_kontribusi_pariwisata_terhadap_pdb</th>\n",
       "    </tr>\n",
       "  </thead>\n",
       "  <tbody>\n",
       "    <tr>\n",
       "      <th>0</th>\n",
       "      <td>2010</td>\n",
       "      <td>4.06</td>\n",
       "    </tr>\n",
       "    <tr>\n",
       "      <th>1</th>\n",
       "      <td>2011</td>\n",
       "      <td>4.00</td>\n",
       "    </tr>\n",
       "    <tr>\n",
       "      <th>2</th>\n",
       "      <td>2012</td>\n",
       "      <td>3.96</td>\n",
       "    </tr>\n",
       "    <tr>\n",
       "      <th>3</th>\n",
       "      <td>2013</td>\n",
       "      <td>4.02</td>\n",
       "    </tr>\n",
       "    <tr>\n",
       "      <th>4</th>\n",
       "      <td>2014</td>\n",
       "      <td>4.13</td>\n",
       "    </tr>\n",
       "  </tbody>\n",
       "</table>\n",
       "</div>"
      ],
      "text/plain": [
       "   tahun  persentase_kontribusi_pariwisata_terhadap_pdb\n",
       "0   2010                                           4.06\n",
       "1   2011                                           4.00\n",
       "2   2012                                           3.96\n",
       "3   2013                                           4.02\n",
       "4   2014                                           4.13"
      ]
     },
     "execution_count": 3,
     "metadata": {},
     "output_type": "execute_result"
    }
   ],
   "source": [
    "kontribusi_pdb.head()"
   ]
  },
  {
   "cell_type": "code",
   "execution_count": 4,
   "id": "15f1d70c-ad62-4183-bb6b-dd2fd9e8512f",
   "metadata": {},
   "outputs": [
    {
     "data": {
      "text/html": [
       "<div>\n",
       "<style scoped>\n",
       "    .dataframe tbody tr th:only-of-type {\n",
       "        vertical-align: middle;\n",
       "    }\n",
       "\n",
       "    .dataframe tbody tr th {\n",
       "        vertical-align: top;\n",
       "    }\n",
       "\n",
       "    .dataframe thead th {\n",
       "        text-align: right;\n",
       "    }\n",
       "</style>\n",
       "<table border=\"1\" class=\"dataframe\">\n",
       "  <thead>\n",
       "    <tr style=\"text-align: right;\">\n",
       "      <th></th>\n",
       "      <th>tahun</th>\n",
       "      <th>jumlah_devisa_pariwisata_milyar_usd</th>\n",
       "    </tr>\n",
       "  </thead>\n",
       "  <tbody>\n",
       "    <tr>\n",
       "      <th>0</th>\n",
       "      <td>2014</td>\n",
       "      <td>10.26</td>\n",
       "    </tr>\n",
       "    <tr>\n",
       "      <th>1</th>\n",
       "      <td>2015</td>\n",
       "      <td>10.76</td>\n",
       "    </tr>\n",
       "    <tr>\n",
       "      <th>2</th>\n",
       "      <td>2016</td>\n",
       "      <td>11.21</td>\n",
       "    </tr>\n",
       "    <tr>\n",
       "      <th>3</th>\n",
       "      <td>2017</td>\n",
       "      <td>13.14</td>\n",
       "    </tr>\n",
       "    <tr>\n",
       "      <th>4</th>\n",
       "      <td>2018</td>\n",
       "      <td>16.43</td>\n",
       "    </tr>\n",
       "  </tbody>\n",
       "</table>\n",
       "</div>"
      ],
      "text/plain": [
       "   tahun  jumlah_devisa_pariwisata_milyar_usd\n",
       "0   2014                                10.26\n",
       "1   2015                                10.76\n",
       "2   2016                                11.21\n",
       "3   2017                                13.14\n",
       "4   2018                                16.43"
      ]
     },
     "execution_count": 4,
     "metadata": {},
     "output_type": "execute_result"
    }
   ],
   "source": [
    "devisa.head()"
   ]
  },
  {
   "cell_type": "code",
   "execution_count": 5,
   "id": "8aba2ac9-2ed2-410f-bbba-8a78850da28c",
   "metadata": {},
   "outputs": [
    {
     "name": "stdout",
     "output_type": "stream",
     "text": [
      "<class 'pandas.core.frame.DataFrame'>\n",
      "RangeIndex: 14 entries, 0 to 13\n",
      "Data columns (total 2 columns):\n",
      " #   Column                                         Non-Null Count  Dtype  \n",
      "---  ------                                         --------------  -----  \n",
      " 0   tahun                                          14 non-null     int64  \n",
      " 1   persentase_kontribusi_pariwisata_terhadap_pdb  14 non-null     float64\n",
      "dtypes: float64(1), int64(1)\n",
      "memory usage: 352.0 bytes\n",
      "<class 'pandas.core.frame.DataFrame'>\n",
      "RangeIndex: 10 entries, 0 to 9\n",
      "Data columns (total 2 columns):\n",
      " #   Column                               Non-Null Count  Dtype  \n",
      "---  ------                               --------------  -----  \n",
      " 0   tahun                                10 non-null     int64  \n",
      " 1   jumlah_devisa_pariwisata_milyar_usd  10 non-null     float64\n",
      "dtypes: float64(1), int64(1)\n",
      "memory usage: 288.0 bytes\n"
     ]
    }
   ],
   "source": [
    "kontribusi_pdb.info()\n",
    "devisa.info()"
   ]
  },
  {
   "cell_type": "code",
   "execution_count": 6,
   "id": "1aba1d29-d5fe-4e9e-bdd2-253079b742d2",
   "metadata": {},
   "outputs": [],
   "source": [
    "# Ganti tipe data kontribusi_pdb\n",
    "kontribusi_pdb['tahun'] = kontribusi_pdb['tahun'].astype('Int64')\n",
    "devisa['tahun'] = devisa['tahun'].astype('Int64')\n",
    "\n",
    "kontribusi_pdb = kontribusi_pdb[kontribusi_pdb['tahun'] >= 2017]\n",
    "devisa= devisa[devisa['tahun'] >= 2017]"
   ]
  },
  {
   "cell_type": "code",
   "execution_count": 7,
   "id": "eae3c73c-fce6-47d8-a8f3-83660916c37d",
   "metadata": {},
   "outputs": [
    {
     "data": {
      "image/png": "[encoded data removed]",
      "text/plain": [
       "<Figure size 640x480 with 1 Axes>"
      ]
     },
     "metadata": {},
     "output_type": "display_data"
    },
    {
     "data": {
      "image/png": "[encoded data removed]",
      "text/plain": [
       "<Figure size 640x480 with 1 Axes>"
      ]
     },
     "metadata": {},
     "output_type": "display_data"
    }
   ],
   "source": [
    "sns.lineplot(data = kontribusi_pdb, x = 'tahun', y = 'persentase_kontribusi_pariwisata_terhadap_pdb')\n",
    "plt.title('Kontribusi Pariwisata terhadap PDB per Tahun')\n",
    "plt.tight_layout()\n",
    "plt.show()\n",
    "\n",
    "sns.barplot(data = devisa, x = 'tahun', y = 'jumlah_devisa_pariwisata_milyar_usd')\n",
    "plt.title('Jumlah Devisa Pariwisata per Tahun')\n",
    "plt.tight_layout()\n",
    "plt.show()\n",
    "\n",
    "# Dibawah ini artinya kontribusi pdb dan devisa sama-sama terdampak oleh pandemi covid-19, dampak tersebut sangat signifikan."
   ]
  },
  {
   "cell_type": "code",
   "execution_count": 8,
   "id": "315a794b-2aa9-496e-ae10-2516a092f7a8",
   "metadata": {},
   "outputs": [
    {
     "name": "stdout",
     "output_type": "stream",
     "text": [
      "Presentase 2019 ke 2020:  -2.74\n"
     ]
    }
   ],
   "source": [
    "kontribusi_pdb_2019 = kontribusi_pdb.loc[kontribusi_pdb['tahun'] == 2019, 'persentase_kontribusi_pariwisata_terhadap_pdb'].values[0]\n",
    "kontribusi_pdb_2020 = kontribusi_pdb.loc[kontribusi_pdb['tahun'] == 2020, 'persentase_kontribusi_pariwisata_terhadap_pdb'].values[0]\n",
    "percent_diff_pdb_20 = round(kontribusi_pdb_2020 - kontribusi_pdb_2019,2)\n",
    "print(\"Presentase 2019 ke 2020: \", percent_diff_pdb_20)\n",
    "# Kontribusi pariwisata indonesia terhadap PDB turun dari tahun 2019 ke 2020 turun hingga 2.74%."
   ]
  },
  {
   "cell_type": "code",
   "execution_count": 9,
   "id": "4bb8e7ab-3ba0-4df4-91ff-e37bc6be4eea",
   "metadata": {},
   "outputs": [
    {
     "name": "stdout",
     "output_type": "stream",
     "text": [
      "Presentase 2019 ke 2020:  -80.01\n",
      "Presentase 2019 ke 2021:  -96.92\n"
     ]
    }
   ],
   "source": [
    "devisa_2019 = devisa.loc[devisa['tahun'] == 2019, 'jumlah_devisa_pariwisata_milyar_usd'].values[0]\n",
    "devisa_2020 = devisa.loc[devisa['tahun'] == 2020, 'jumlah_devisa_pariwisata_milyar_usd'].values[0]\n",
    "devisa_2021 = devisa.loc[devisa['tahun'] == 2021, 'jumlah_devisa_pariwisata_milyar_usd'].values[0]\n",
    "percent_diff_devisa_20 = round(((devisa_2020 - devisa_2019) / devisa_2019) * 100,2)\n",
    "percent_diff_devisa_21 = round(((devisa_2021 - devisa_2019) / devisa_2019) * 100,2)\n",
    "\n",
    "print(\"Presentase 2019 ke 2020: \", percent_diff_devisa_20)\n",
    "print(\"Presentase 2019 ke 2021: \", percent_diff_devisa_21)\n",
    "# Devisa pariwisata turun drastis hingga 80% dari tahun 2019 ke tahun 2020, bahkan 2019 ke 2021 turun hingga 96,9%"
   ]
  },
  {
   "cell_type": "code",
   "execution_count": 10,
   "id": "6521528f-8e4d-416f-b949-d052e4cd57e1",
   "metadata": {},
   "outputs": [
    {
     "name": "stdout",
     "output_type": "stream",
     "text": [
      "175.8%\n"
     ]
    }
   ],
   "source": [
    "#Target minimum 2023 vs capaian hasil\n",
    "target_minimum_devisa_2023 = 2.07 #(Juta USD)\n",
    "target_maksimum_devisa_2023 = 5.95 #(Juta USD)\n",
    "capaian_devisa_2023 =  devisa.loc[devisa['tahun'] == 2023, 'jumlah_devisa_pariwisata_milyar_usd'].values[0]\n",
    "if capaian_devisa_2023 > target_maksimum_devisa_2023:\n",
    "    capaian_devisa_2023_percent = round(100*  (capaian_devisa_2023 / target_maksimum_devisa_2023),2) \n",
    "else:\n",
    "    capaian_devisa_2023_percent = round(100 * (capaian_devisa_2023 / target_minimum_devisa_2023),2)\n",
    "print(f\"{capaian_devisa_2023_percent}%\")\n",
    "\n",
    "# Terlihat bahwa indonesia mencapai hasil yang baik pada target devisa 2023 yang tercapai hingga 175.8%"
   ]
  },
  {
   "cell_type": "markdown",
   "id": "f7a147e8-7095-449a-817c-1b89ffab6a71",
   "metadata": {},
   "source": [
    "### Kunjungan Wisata Mancanegara (Wisman)\n"
   ]
  },
  {
   "cell_type": "code",
   "execution_count": 11,
   "id": "eedcd36b-d981-4ff9-9ee6-7dc445951710",
   "metadata": {},
   "outputs": [
    {
     "data": {
      "text/html": [
       "<div>\n",
       "<style scoped>\n",
       "    .dataframe tbody tr th:only-of-type {\n",
       "        vertical-align: middle;\n",
       "    }\n",
       "\n",
       "    .dataframe tbody tr th {\n",
       "        vertical-align: top;\n",
       "    }\n",
       "\n",
       "    .dataframe thead th {\n",
       "        text-align: right;\n",
       "    }\n",
       "</style>\n",
       "<table border=\"1\" class=\"dataframe\">\n",
       "  <thead>\n",
       "    <tr style=\"text-align: right;\">\n",
       "      <th></th>\n",
       "      <th>negara</th>\n",
       "      <th>region</th>\n",
       "      <th>benua</th>\n",
       "      <th>bulan</th>\n",
       "      <th>tahun</th>\n",
       "      <th>jumlah_kunjungan_wisman</th>\n",
       "    </tr>\n",
       "  </thead>\n",
       "  <tbody>\n",
       "    <tr>\n",
       "      <th>0</th>\n",
       "      <td>Brunei Darussalam</td>\n",
       "      <td>ASEAN</td>\n",
       "      <td>ASIA</td>\n",
       "      <td>Januari</td>\n",
       "      <td>2023</td>\n",
       "      <td>603</td>\n",
       "    </tr>\n",
       "    <tr>\n",
       "      <th>1</th>\n",
       "      <td>Brunei Darussalam</td>\n",
       "      <td>ASEAN</td>\n",
       "      <td>ASIA</td>\n",
       "      <td>Februari</td>\n",
       "      <td>2023</td>\n",
       "      <td>831</td>\n",
       "    </tr>\n",
       "    <tr>\n",
       "      <th>2</th>\n",
       "      <td>Brunei Darussalam</td>\n",
       "      <td>ASEAN</td>\n",
       "      <td>ASIA</td>\n",
       "      <td>Maret</td>\n",
       "      <td>2023</td>\n",
       "      <td>928</td>\n",
       "    </tr>\n",
       "    <tr>\n",
       "      <th>3</th>\n",
       "      <td>Brunei Darussalam</td>\n",
       "      <td>ASEAN</td>\n",
       "      <td>ASIA</td>\n",
       "      <td>April</td>\n",
       "      <td>2023</td>\n",
       "      <td>740</td>\n",
       "    </tr>\n",
       "    <tr>\n",
       "      <th>4</th>\n",
       "      <td>Brunei Darussalam</td>\n",
       "      <td>ASEAN</td>\n",
       "      <td>ASIA</td>\n",
       "      <td>Mei</td>\n",
       "      <td>2023</td>\n",
       "      <td>894</td>\n",
       "    </tr>\n",
       "  </tbody>\n",
       "</table>\n",
       "</div>"
      ],
      "text/plain": [
       "              negara region benua     bulan  tahun  jumlah_kunjungan_wisman\n",
       "0  Brunei Darussalam  ASEAN  ASIA   Januari   2023                      603\n",
       "1  Brunei Darussalam  ASEAN  ASIA  Februari   2023                      831\n",
       "2  Brunei Darussalam  ASEAN  ASIA     Maret   2023                      928\n",
       "3  Brunei Darussalam  ASEAN  ASIA     April   2023                      740\n",
       "4  Brunei Darussalam  ASEAN  ASIA       Mei   2023                      894"
      ]
     },
     "execution_count": 11,
     "metadata": {},
     "output_type": "execute_result"
    }
   ],
   "source": [
    "kunjungan_wisman.head()"
   ]
  },
  {
   "cell_type": "code",
   "execution_count": 12,
   "id": "4ab4ec9a-704e-45ff-8018-aecd30ea2c01",
   "metadata": {},
   "outputs": [
    {
     "name": "stdout",
     "output_type": "stream",
     "text": [
      "<class 'pandas.core.frame.DataFrame'>\n",
      "RangeIndex: 9911 entries, 0 to 9910\n",
      "Data columns (total 6 columns):\n",
      " #   Column                   Non-Null Count  Dtype \n",
      "---  ------                   --------------  ----- \n",
      " 0   negara                   9911 non-null   object\n",
      " 1   region                   9911 non-null   object\n",
      " 2   benua                    9911 non-null   object\n",
      " 3   bulan                    9911 non-null   object\n",
      " 4   tahun                    9911 non-null   int64 \n",
      " 5   jumlah_kunjungan_wisman  9911 non-null   int64 \n",
      "dtypes: int64(2), object(4)\n",
      "memory usage: 464.7+ KB\n"
     ]
    }
   ],
   "source": [
    "kunjungan_wisman.info()"
   ]
  },
  {
   "cell_type": "code",
   "execution_count": 13,
   "id": "9830f41c-8be8-430c-9d82-6a2a9e8ba802",
   "metadata": {},
   "outputs": [
    {
     "data": {
      "text/plain": [
       "array([2023, 2022, 2021, 2020, 2019, 2018, 2017], dtype=int64)"
      ]
     },
     "execution_count": 13,
     "metadata": {},
     "output_type": "execute_result"
    }
   ],
   "source": [
    "kunjungan_wisman['tahun'].unique()"
   ]
  },
  {
   "cell_type": "code",
   "execution_count": 14,
   "id": "3881d5bb-3a53-41f5-968d-1b948b169d2a",
   "metadata": {},
   "outputs": [
    {
     "data": {
      "text/html": [
       "<div>\n",
       "<style scoped>\n",
       "    .dataframe tbody tr th:only-of-type {\n",
       "        vertical-align: middle;\n",
       "    }\n",
       "\n",
       "    .dataframe tbody tr th {\n",
       "        vertical-align: top;\n",
       "    }\n",
       "\n",
       "    .dataframe thead th {\n",
       "        text-align: right;\n",
       "    }\n",
       "</style>\n",
       "<table border=\"1\" class=\"dataframe\">\n",
       "  <thead>\n",
       "    <tr style=\"text-align: right;\">\n",
       "      <th></th>\n",
       "      <th>jumlah_kunjungan_wisman</th>\n",
       "    </tr>\n",
       "  </thead>\n",
       "  <tbody>\n",
       "    <tr>\n",
       "      <th>count</th>\n",
       "      <td>9911.000000</td>\n",
       "    </tr>\n",
       "    <tr>\n",
       "      <th>mean</th>\n",
       "      <td>6824.325699</td>\n",
       "    </tr>\n",
       "    <tr>\n",
       "      <th>std</th>\n",
       "      <td>24725.505131</td>\n",
       "    </tr>\n",
       "    <tr>\n",
       "      <th>min</th>\n",
       "      <td>0.000000</td>\n",
       "    </tr>\n",
       "    <tr>\n",
       "      <th>25%</th>\n",
       "      <td>36.000000</td>\n",
       "    </tr>\n",
       "    <tr>\n",
       "      <th>50%</th>\n",
       "      <td>299.000000</td>\n",
       "    </tr>\n",
       "    <tr>\n",
       "      <th>75%</th>\n",
       "      <td>1972.000000</td>\n",
       "    </tr>\n",
       "    <tr>\n",
       "      <th>max</th>\n",
       "      <td>287051.000000</td>\n",
       "    </tr>\n",
       "  </tbody>\n",
       "</table>\n",
       "</div>"
      ],
      "text/plain": [
       "       jumlah_kunjungan_wisman\n",
       "count              9911.000000\n",
       "mean               6824.325699\n",
       "std               24725.505131\n",
       "min                   0.000000\n",
       "25%                  36.000000\n",
       "50%                 299.000000\n",
       "75%                1972.000000\n",
       "max              287051.000000"
      ]
     },
     "execution_count": 14,
     "metadata": {},
     "output_type": "execute_result"
    }
   ],
   "source": [
    "kunjungan_wisman_desc = kunjungan_wisman[kunjungan_wisman['tahun'] >= 2017]\n",
    "kunjungan_wisman_desc = kunjungan_wisman_desc.drop(columns='tahun')\n",
    "kunjungan_wisman_desc.describe()\n",
    "# Rata-rata wisman yang berwisata dari berbagai negara dalam kurun waktu 2017-2023 yaitu 6824,3 pengunjung"
   ]
  },
  {
   "cell_type": "code",
   "execution_count": 15,
   "id": "52999cab-ec5d-4c97-8ae3-80a6813b2106",
   "metadata": {},
   "outputs": [
    {
     "data": {
      "text/html": [
       "<div>\n",
       "<style scoped>\n",
       "    .dataframe tbody tr th:only-of-type {\n",
       "        vertical-align: middle;\n",
       "    }\n",
       "\n",
       "    .dataframe tbody tr th {\n",
       "        vertical-align: top;\n",
       "    }\n",
       "\n",
       "    .dataframe thead th {\n",
       "        text-align: right;\n",
       "    }\n",
       "</style>\n",
       "<table border=\"1\" class=\"dataframe\">\n",
       "  <thead>\n",
       "    <tr style=\"text-align: right;\">\n",
       "      <th></th>\n",
       "      <th>tahun</th>\n",
       "      <th>jumlah_kunjungan</th>\n",
       "    </tr>\n",
       "  </thead>\n",
       "  <tbody>\n",
       "    <tr>\n",
       "      <th>0</th>\n",
       "      <td>2017</td>\n",
       "      <td>13797943</td>\n",
       "    </tr>\n",
       "    <tr>\n",
       "      <th>1</th>\n",
       "      <td>2018</td>\n",
       "      <td>15105481</td>\n",
       "    </tr>\n",
       "    <tr>\n",
       "      <th>2</th>\n",
       "      <td>2019</td>\n",
       "      <td>15442308</td>\n",
       "    </tr>\n",
       "    <tr>\n",
       "      <th>3</th>\n",
       "      <td>2020</td>\n",
       "      <td>3908353</td>\n",
       "    </tr>\n",
       "    <tr>\n",
       "      <th>4</th>\n",
       "      <td>2021</td>\n",
       "      <td>2452081</td>\n",
       "    </tr>\n",
       "    <tr>\n",
       "      <th>5</th>\n",
       "      <td>2022</td>\n",
       "      <td>5671415</td>\n",
       "    </tr>\n",
       "    <tr>\n",
       "      <th>6</th>\n",
       "      <td>2023</td>\n",
       "      <td>11258311</td>\n",
       "    </tr>\n",
       "  </tbody>\n",
       "</table>\n",
       "</div>"
      ],
      "text/plain": [
       "   tahun  jumlah_kunjungan\n",
       "0   2017          13797943\n",
       "1   2018          15105481\n",
       "2   2019          15442308\n",
       "3   2020           3908353\n",
       "4   2021           2452081\n",
       "5   2022           5671415\n",
       "6   2023          11258311"
      ]
     },
     "execution_count": 15,
     "metadata": {},
     "output_type": "execute_result"
    }
   ],
   "source": [
    "kunjungan_wisman_group = kunjungan_wisman.groupby('tahun').agg(jumlah_kunjungan = ('jumlah_kunjungan_wisman', 'sum')).reset_index()\n",
    "kunjungan_wisman_group\n",
    "# Pada kurun waktu sebelum pandami, jumlah kunjungan wisman cenderung naik bahkan menyentuh 15 juta pengunjung (2019)\n",
    "# setelah pandami menjadi 3.9 Juta pengunjung, bahkan hanya 2.4 juta pada tahun 2021 "
   ]
  },
  {
   "cell_type": "code",
   "execution_count": 16,
   "id": "abdd2882-320f-4de3-88f3-11e4f1dfc11a",
   "metadata": {},
   "outputs": [
    {
     "data": {
      "image/png": "[encoded data removed]",
      "text/plain": [
       "<Figure size 640x480 with 1 Axes>"
      ]
     },
     "metadata": {},
     "output_type": "display_data"
    }
   ],
   "source": [
    "sns.barplot(data=kunjungan_wisman_group, x = 'tahun', y = 'jumlah_kunjungan')\n",
    "plt.title('Kunjungan Wisman per Tahun')\n",
    "plt.ticklabel_format(style='plain', axis='y')\n",
    "plt.tight_layout()\n",
    "plt.show()"
   ]
  },
  {
   "cell_type": "code",
   "execution_count": 17,
   "id": "9a4914a6-8fe5-430d-8739-e497de9cf577",
   "metadata": {},
   "outputs": [
    {
     "name": "stdout",
     "output_type": "stream",
     "text": [
      "Presentase 2019 ke 2020:  -74.69\n",
      "Presentase 2019 ke 2021:  -84.12\n"
     ]
    }
   ],
   "source": [
    "wisman_2019 = kunjungan_wisman_group.loc[kunjungan_wisman_group['tahun'] == 2019, 'jumlah_kunjungan'].values[0]\n",
    "wisman_2020 = kunjungan_wisman_group.loc[kunjungan_wisman_group['tahun'] == 2020, 'jumlah_kunjungan'].values[0]\n",
    "wisman_2021 = kunjungan_wisman_group.loc[kunjungan_wisman_group['tahun'] == 2021, 'jumlah_kunjungan'].values[0]\n",
    "percent_diff_wisman_20 = round(((wisman_2020 - wisman_2019) / wisman_2019) * 100,2)\n",
    "percent_diff_wisman_21 = round(((wisman_2021 - wisman_2019) / wisman_2019) * 100,2)\n",
    "\n",
    "print(\"Presentase 2019 ke 2020: \", percent_diff_wisman_20)\n",
    "print(\"Presentase 2019 ke 2021: \", percent_diff_wisman_21)\n",
    "\n",
    "#Namun, sejak Pandemi tahun 2020, penurunan kunjungan terjadi hingga 74,7%. Bahkan di 2021 dibandingkan dengan 2019 turun hingga 84.12%.\n",
    "# Dimasa pemulihan Indonesia, jumlah kunjungan bertahap mengalami kenaikan hingga kini tahun 2023 mencapai 11 juta pengunjung. "
   ]
  },
  {
   "cell_type": "code",
   "execution_count": 18,
   "id": "1fe8958a-f955-4fdb-9168-db41ec578fb4",
   "metadata": {},
   "outputs": [
    {
     "data": {
      "text/html": [
       "<div>\n",
       "<style scoped>\n",
       "    .dataframe tbody tr th:only-of-type {\n",
       "        vertical-align: middle;\n",
       "    }\n",
       "\n",
       "    .dataframe tbody tr th {\n",
       "        vertical-align: top;\n",
       "    }\n",
       "\n",
       "    .dataframe thead th {\n",
       "        text-align: right;\n",
       "    }\n",
       "</style>\n",
       "<table border=\"1\" class=\"dataframe\">\n",
       "  <thead>\n",
       "    <tr style=\"text-align: right;\">\n",
       "      <th></th>\n",
       "      <th>benua</th>\n",
       "      <th>jumlah_kunjungan</th>\n",
       "    </tr>\n",
       "  </thead>\n",
       "  <tbody>\n",
       "    <tr>\n",
       "      <th>2</th>\n",
       "      <td>ASIA</td>\n",
       "      <td>47467054</td>\n",
       "    </tr>\n",
       "    <tr>\n",
       "      <th>3</th>\n",
       "      <td>EUROPE</td>\n",
       "      <td>9647932</td>\n",
       "    </tr>\n",
       "    <tr>\n",
       "      <th>4</th>\n",
       "      <td>OCEANIA</td>\n",
       "      <td>7381297</td>\n",
       "    </tr>\n",
       "    <tr>\n",
       "      <th>1</th>\n",
       "      <td>AMERICA</td>\n",
       "      <td>2740454</td>\n",
       "    </tr>\n",
       "    <tr>\n",
       "      <th>0</th>\n",
       "      <td>AFRICA</td>\n",
       "      <td>399155</td>\n",
       "    </tr>\n",
       "  </tbody>\n",
       "</table>\n",
       "</div>"
      ],
      "text/plain": [
       "     benua  jumlah_kunjungan\n",
       "2     ASIA          47467054\n",
       "3   EUROPE           9647932\n",
       "4  OCEANIA           7381297\n",
       "1  AMERICA           2740454\n",
       "0   AFRICA            399155"
      ]
     },
     "execution_count": 18,
     "metadata": {},
     "output_type": "execute_result"
    }
   ],
   "source": [
    "# Jumlah kunjungan wisman per benua dari tahun (just exploration)\n",
    "wisman_benua = kunjungan_wisman.groupby('benua').agg(jumlah_kunjungan = ('jumlah_kunjungan_wisman', 'sum')).reset_index()\n",
    "wisman_benua.sort_values(by = 'jumlah_kunjungan', ascending=False)\n",
    "# Wisman dari negara-negara Asia yang paling banyak mengunjungi Indonesia "
   ]
  },
  {
   "cell_type": "code",
   "execution_count": 20,
   "id": "3a034f95-54b2-4b12-b8b1-655f43568a7a",
   "metadata": {},
   "outputs": [
    {
     "name": "stdout",
     "output_type": "stream",
     "text": [
      "     tahun       negara  jumlah_kunjungan  percentage\n",
      "60    2022     Malaysia           1212574       21.38\n",
      "92    2022    Singapore            736797       12.99\n",
      "106   2022  Timor Leste            703780       12.41\n",
      "    tahun     negara  jumlah_kunjungan  percentage\n",
      "60   2023   Malaysia           1901242       16.89\n",
      "4    2023  Australia           1431177       12.71\n",
      "92   2023  Singapore           1414447       12.56\n"
     ]
    }
   ],
   "source": [
    "### Top 3 negara asal Wisman tahun 2022\n",
    "kunjungan_wisman_2022 = kunjungan_wisman[kunjungan_wisman['tahun'] == 2022]\n",
    "kunjungan_wisman_2022 = kunjungan_wisman_2022.groupby(['tahun', 'negara']).agg(jumlah_kunjungan = ('jumlah_kunjungan_wisman','sum')).reset_index()\n",
    "kunjungan_wisman_2022 = kunjungan_wisman_2022.sort_values(by='jumlah_kunjungan', ascending=False)\n",
    "total = kunjungan_wisman_2022['jumlah_kunjungan'].sum()\n",
    "kunjungan_wisman_2022['percentage'] = round((kunjungan_wisman_2022['jumlah_kunjungan']/total) * 100, 2)\n",
    "print(kunjungan_wisman_2022.head(3))\n",
    "\n",
    "\n",
    "# Top 3 negara asal Wisman tahun 2023\n",
    "kunjungan_wisman_2023 = kunjungan_wisman[kunjungan_wisman['tahun'] == 2023]\n",
    "kunjungan_wisman_2023 = kunjungan_wisman_2023.groupby(['tahun','negara']).agg(jumlah_kunjungan = ('jumlah_kunjungan_wisman','sum')).reset_index()\n",
    "kunjungan_wisman_2023 = kunjungan_wisman_2023.sort_values(by='jumlah_kunjungan', ascending=False)\n",
    "total = kunjungan_wisman_2023['jumlah_kunjungan'].sum()\n",
    "kunjungan_wisman_2023['percentage'] = round((kunjungan_wisman_2023['jumlah_kunjungan']/total) * 100, 2)\n",
    "print(kunjungan_wisman_2023.head(3))\n",
    "\n",
    "# 2022 Wisman asal Malaysia mendominasi hingga 21%. Meski tahun 2021 secara percentage turun, Wisman asal Malaysia tetap bertumbuh di tahun 2022 hingga tahun 2023, \n",
    "# Begitupun dengan Singapore dan Australia, terjadi kenaikan jumlah kunjungan dari tahun sebelumnya."
   ]
  },
  {
   "cell_type": "code",
   "execution_count": 21,
   "id": "222ccd18-d5de-43e0-a9fc-1de22bbc5343",
   "metadata": {},
   "outputs": [
    {
     "data": {
      "image/png": "[encoded data removed]",
      "text/plain": [
       "<Figure size 640x480 with 1 Axes>"
      ]
     },
     "metadata": {},
     "output_type": "display_data"
    },
    {
     "data": {
      "image/png": "[encoded data removed]",
      "text/plain": [
       "<Figure size 640x480 with 1 Axes>"
      ]
     },
     "metadata": {},
     "output_type": "display_data"
    }
   ],
   "source": [
    "kunjungan_wisman_2022_graph = kunjungan_wisman_2022.head(5)\n",
    "sns.barplot(data=kunjungan_wisman_2022_graph, x = 'negara', y = 'jumlah_kunjungan')\n",
    "plt.title('Top 5 Negara Asal Wisman 2022')\n",
    "plt.ticklabel_format(style='plain', axis='y')\n",
    "plt.tight_layout()\n",
    "plt.show()\n",
    "\n",
    "kunjungan_wisman_2023_graph = kunjungan_wisman_2023.head(5)\n",
    "sns.barplot(data=kunjungan_wisman_2023_graph, x = 'negara', y = 'jumlah_kunjungan')\n",
    "plt.title('Top 5 Negara Asal Wisman 2023')\n",
    "plt.ticklabel_format(style='plain', axis='y')\n",
    "plt.tight_layout()\n",
    "plt.show()"
   ]
  },
  {
   "cell_type": "code",
   "execution_count": 22,
   "id": "8e52476f-3bc3-4a21-ab60-f72d7df16daf",
   "metadata": {},
   "outputs": [
    {
     "data": {
      "text/html": [
       "<div>\n",
       "<style scoped>\n",
       "    .dataframe tbody tr th:only-of-type {\n",
       "        vertical-align: middle;\n",
       "    }\n",
       "\n",
       "    .dataframe tbody tr th {\n",
       "        vertical-align: top;\n",
       "    }\n",
       "\n",
       "    .dataframe thead th {\n",
       "        text-align: right;\n",
       "    }\n",
       "</style>\n",
       "<table border=\"1\" class=\"dataframe\">\n",
       "  <thead>\n",
       "    <tr style=\"text-align: right;\">\n",
       "      <th></th>\n",
       "      <th>tahun</th>\n",
       "      <th>negara</th>\n",
       "      <th>jumlah_kunjungan_wisman</th>\n",
       "    </tr>\n",
       "  </thead>\n",
       "  <tbody>\n",
       "    <tr>\n",
       "      <th>296</th>\n",
       "      <td>2019</td>\n",
       "      <td>Malaysia</td>\n",
       "      <td>287051</td>\n",
       "    </tr>\n",
       "  </tbody>\n",
       "</table>\n",
       "</div>"
      ],
      "text/plain": [
       "     tahun    negara  jumlah_kunjungan_wisman\n",
       "296   2019  Malaysia                   287051"
      ]
     },
     "execution_count": 22,
     "metadata": {},
     "output_type": "execute_result"
    }
   ],
   "source": [
    "maks_kunjungan_per_negara = kunjungan_wisman.groupby(['tahun','negara'])['jumlah_kunjungan_wisman'].max().reset_index()\n",
    "maks_kunjungan_per_negara.sort_values(by = 'jumlah_kunjungan_wisman', ascending=False).head(1)\n",
    "\n",
    "# Malaysia menjadi negara terbanyak kunjungan asal wisman di Indonesia dan puncaknya pada tahun 2019 hingga 2,8 juta kunjungan."
   ]
  },
  {
   "cell_type": "markdown",
   "id": "87540f2d-c5fc-4bf2-aee5-36e260405cdc",
   "metadata": {},
   "source": [
    "### Wisman Per Pintu Masuk dan Provinsi Tujuan"
   ]
  },
  {
   "cell_type": "code",
   "execution_count": 23,
   "id": "31124781-0ef3-4187-ab82-6c1ecb4addd3",
   "metadata": {},
   "outputs": [
    {
     "data": {
      "text/html": [
       "<div>\n",
       "<style scoped>\n",
       "    .dataframe tbody tr th:only-of-type {\n",
       "        vertical-align: middle;\n",
       "    }\n",
       "\n",
       "    .dataframe tbody tr th {\n",
       "        vertical-align: top;\n",
       "    }\n",
       "\n",
       "    .dataframe thead th {\n",
       "        text-align: right;\n",
       "    }\n",
       "</style>\n",
       "<table border=\"1\" class=\"dataframe\">\n",
       "  <thead>\n",
       "    <tr style=\"text-align: right;\">\n",
       "      <th></th>\n",
       "      <th>tahun</th>\n",
       "      <th>bulan</th>\n",
       "      <th>provinsi</th>\n",
       "      <th>nama_pintu_masuk</th>\n",
       "      <th>jenis_pintu_masuk</th>\n",
       "      <th>jumlah_kunjungan_wisman</th>\n",
       "    </tr>\n",
       "  </thead>\n",
       "  <tbody>\n",
       "    <tr>\n",
       "      <th>0</th>\n",
       "      <td>2023</td>\n",
       "      <td>Januari</td>\n",
       "      <td>BALI</td>\n",
       "      <td>Ngurah Rai</td>\n",
       "      <td>Udara</td>\n",
       "      <td>329909</td>\n",
       "    </tr>\n",
       "    <tr>\n",
       "      <th>1</th>\n",
       "      <td>2023</td>\n",
       "      <td>Januari</td>\n",
       "      <td>DKI JAKARTA</td>\n",
       "      <td>Soekarno-Hatta</td>\n",
       "      <td>Udara</td>\n",
       "      <td>115101</td>\n",
       "    </tr>\n",
       "    <tr>\n",
       "      <th>2</th>\n",
       "      <td>2023</td>\n",
       "      <td>Januari</td>\n",
       "      <td>JAWA TIMUR</td>\n",
       "      <td>Juanda</td>\n",
       "      <td>Udara</td>\n",
       "      <td>10777</td>\n",
       "    </tr>\n",
       "    <tr>\n",
       "      <th>3</th>\n",
       "      <td>2023</td>\n",
       "      <td>Januari</td>\n",
       "      <td>SUMATERA UTARA</td>\n",
       "      <td>Kualanamu</td>\n",
       "      <td>Udara</td>\n",
       "      <td>14146</td>\n",
       "    </tr>\n",
       "    <tr>\n",
       "      <th>4</th>\n",
       "      <td>2023</td>\n",
       "      <td>Januari</td>\n",
       "      <td>JAWA BARAT</td>\n",
       "      <td>Husein Sastranegara</td>\n",
       "      <td>Udara</td>\n",
       "      <td>0</td>\n",
       "    </tr>\n",
       "  </tbody>\n",
       "</table>\n",
       "</div>"
      ],
      "text/plain": [
       "   tahun    bulan        provinsi     nama_pintu_masuk jenis_pintu_masuk  \\\n",
       "0   2023  Januari            BALI           Ngurah Rai             Udara   \n",
       "1   2023  Januari     DKI JAKARTA       Soekarno-Hatta             Udara   \n",
       "2   2023  Januari      JAWA TIMUR               Juanda             Udara   \n",
       "3   2023  Januari  SUMATERA UTARA            Kualanamu             Udara   \n",
       "4   2023  Januari      JAWA BARAT  Husein Sastranegara             Udara   \n",
       "\n",
       "   jumlah_kunjungan_wisman  \n",
       "0                   329909  \n",
       "1                   115101  \n",
       "2                    10777  \n",
       "3                    14146  \n",
       "4                        0  "
      ]
     },
     "execution_count": 23,
     "metadata": {},
     "output_type": "execute_result"
    }
   ],
   "source": [
    "wisman_per_pintu_masuk.head()"
   ]
  },
  {
   "cell_type": "code",
   "execution_count": 24,
   "id": "62f91531-1a38-4584-8f15-b7542d08b5f3",
   "metadata": {},
   "outputs": [
    {
     "name": "stdout",
     "output_type": "stream",
     "text": [
      "<class 'pandas.core.frame.DataFrame'>\n",
      "RangeIndex: 2436 entries, 0 to 2435\n",
      "Data columns (total 6 columns):\n",
      " #   Column                   Non-Null Count  Dtype \n",
      "---  ------                   --------------  ----- \n",
      " 0   tahun                    2436 non-null   int32 \n",
      " 1   bulan                    2436 non-null   object\n",
      " 2   provinsi                 2436 non-null   object\n",
      " 3   nama_pintu_masuk         2436 non-null   object\n",
      " 4   jenis_pintu_masuk        2436 non-null   object\n",
      " 5   jumlah_kunjungan_wisman  2436 non-null   int64 \n",
      "dtypes: int32(1), int64(1), object(4)\n",
      "memory usage: 104.8+ KB\n"
     ]
    }
   ],
   "source": [
    "wisman_per_pintu_masuk['tahun'] = wisman_per_pintu_masuk['tahun'].astype(int)\n",
    "wisman_per_pintu_masuk.info()"
   ]
  },
  {
   "cell_type": "code",
   "execution_count": 25,
   "id": "f5988c24-0dd3-4b3e-b28b-1ddb303a4e5a",
   "metadata": {},
   "outputs": [
    {
     "data": {
      "text/html": [
       "<div>\n",
       "<style scoped>\n",
       "    .dataframe tbody tr th:only-of-type {\n",
       "        vertical-align: middle;\n",
       "    }\n",
       "\n",
       "    .dataframe tbody tr th {\n",
       "        vertical-align: top;\n",
       "    }\n",
       "\n",
       "    .dataframe thead th {\n",
       "        text-align: right;\n",
       "    }\n",
       "</style>\n",
       "<table border=\"1\" class=\"dataframe\">\n",
       "  <thead>\n",
       "    <tr style=\"text-align: right;\">\n",
       "      <th></th>\n",
       "      <th>jenis_pintu_masuk</th>\n",
       "      <th>jumlah_kunjungan</th>\n",
       "    </tr>\n",
       "  </thead>\n",
       "  <tbody>\n",
       "    <tr>\n",
       "      <th>2</th>\n",
       "      <td>Udara</td>\n",
       "      <td>42698567</td>\n",
       "    </tr>\n",
       "    <tr>\n",
       "      <th>1</th>\n",
       "      <td>Laut</td>\n",
       "      <td>16027382</td>\n",
       "    </tr>\n",
       "    <tr>\n",
       "      <th>0</th>\n",
       "      <td>Darat</td>\n",
       "      <td>10387475</td>\n",
       "    </tr>\n",
       "  </tbody>\n",
       "</table>\n",
       "</div>"
      ],
      "text/plain": [
       "  jenis_pintu_masuk  jumlah_kunjungan\n",
       "2             Udara          42698567\n",
       "1              Laut          16027382\n",
       "0             Darat          10387475"
      ]
     },
     "execution_count": 25,
     "metadata": {},
     "output_type": "execute_result"
    }
   ],
   "source": [
    "wisman_jenis_pintu_2023 = wisman_per_pintu_masuk[wisman_per_pintu_masuk['tahun'] == 2023]\n",
    "wisman_jenis_pintu_masuk = wisman_per_pintu_masuk.groupby('jenis_pintu_masuk').agg(jumlah_kunjungan = ('jumlah_kunjungan_wisman', 'sum')).reset_index()\n",
    "wisman_jenis_pintu_masuk.sort_values(by='jumlah_kunjungan', ascending=False)\n",
    "\n",
    "# Dalam tahun 2023 saja jalur darat menjadi jalur yang paling banyak digunakan menerima kunjungan wisman"
   ]
  },
  {
   "cell_type": "code",
   "execution_count": 26,
   "id": "a393b2a7-cd3f-4ba0-b69e-c2932a1ab94b",
   "metadata": {},
   "outputs": [
    {
     "data": {
      "image/png": "[encoded data removed]",
      "text/plain": [
       "<Figure size 640x480 with 1 Axes>"
      ]
     },
     "metadata": {},
     "output_type": "display_data"
    }
   ],
   "source": [
    "sns.barplot(data=wisman_jenis_pintu_masuk, x='jenis_pintu_masuk', y='jumlah_kunjungan')\n",
    "plt.title('Kunjungan Wisman per Pintu di Tahun 2017 - 2023')\n",
    "plt.ticklabel_format(style='plain', axis='y')\n",
    "plt.tight_layout()\n",
    "plt.show()"
   ]
  },
  {
   "cell_type": "code",
   "execution_count": 27,
   "id": "a063654b-7dad-49c1-a8cd-20bd7260846d",
   "metadata": {},
   "outputs": [
    {
     "data": {
      "text/plain": [
       "<Figure size 1000x600 with 0 Axes>"
      ]
     },
     "metadata": {},
     "output_type": "display_data"
    },
    {
     "data": {
      "image/png": "[encoded data removed]",
      "text/plain": [
       "<Figure size 640x480 with 1 Axes>"
      ]
     },
     "metadata": {},
     "output_type": "display_data"
    }
   ],
   "source": [
    "import matplotlib.pyplot as plt\n",
    "\n",
    "grouped_data = wisman_per_pintu_masuk.groupby(['tahun', 'jenis_pintu_masuk'])['jumlah_kunjungan_wisman'].sum().unstack()\n",
    "plt.figure(figsize=(10, 6))\n",
    "grouped_data.plot(kind='bar')\n",
    "\n",
    "plt.title('Jumlah Kunjungan Wisman per Pintu Masuk')\n",
    "plt.xlabel('Tahun')\n",
    "plt.ylabel('Jumlah Kunjungan Wisman')\n",
    "plt.legend(title='Jenis Pintu Masuk')\n",
    "plt.xticks(rotation=0)\n",
    "\n",
    "plt.tight_layout()\n",
    "plt.show()\n",
    "\n",
    "# Seperti yang dilihat bahwa memang jalur udara menjadi jalur yang paling banyak menerima kunjungan wisman. Meski pada tahun 2020 hingga puncaknya 2021\n",
    "# mengalami pembatasan interaksi, sehingga turun sangat signifikan. Tahun 2021 jalur darat menjadi jalur yang paling banyak menerima kunjungan wisman\n",
    "# walaupun secara kuantitas juga mengalami penurunan."
   ]
  },
  {
   "cell_type": "code",
   "execution_count": 28,
   "id": "89d7e613-5e20-48bb-8beb-c0a4121a743b",
   "metadata": {},
   "outputs": [
    {
     "data": {
      "text/html": [
       "<div>\n",
       "<style scoped>\n",
       "    .dataframe tbody tr th:only-of-type {\n",
       "        vertical-align: middle;\n",
       "    }\n",
       "\n",
       "    .dataframe tbody tr th {\n",
       "        vertical-align: top;\n",
       "    }\n",
       "\n",
       "    .dataframe thead th {\n",
       "        text-align: right;\n",
       "    }\n",
       "</style>\n",
       "<table border=\"1\" class=\"dataframe\">\n",
       "  <thead>\n",
       "    <tr style=\"text-align: right;\">\n",
       "      <th></th>\n",
       "      <th>tahun</th>\n",
       "      <th>provinsi</th>\n",
       "      <th>jenis_pintu_masuk</th>\n",
       "      <th>jumlah_kunjungan</th>\n",
       "    </tr>\n",
       "  </thead>\n",
       "  <tbody>\n",
       "    <tr>\n",
       "      <th>146</th>\n",
       "      <td>2023</td>\n",
       "      <td>BALI</td>\n",
       "      <td>Udara</td>\n",
       "      <td>5248113</td>\n",
       "    </tr>\n",
       "    <tr>\n",
       "      <th>148</th>\n",
       "      <td>2023</td>\n",
       "      <td>DKI JAKARTA</td>\n",
       "      <td>Udara</td>\n",
       "      <td>1953005</td>\n",
       "    </tr>\n",
       "    <tr>\n",
       "      <th>155</th>\n",
       "      <td>2023</td>\n",
       "      <td>KEP. RIAU</td>\n",
       "      <td>Laut</td>\n",
       "      <td>1523434</td>\n",
       "    </tr>\n",
       "  </tbody>\n",
       "</table>\n",
       "</div>"
      ],
      "text/plain": [
       "     tahun     provinsi jenis_pintu_masuk  jumlah_kunjungan\n",
       "146   2023         BALI             Udara           5248113\n",
       "148   2023  DKI JAKARTA             Udara           1953005\n",
       "155   2023    KEP. RIAU              Laut           1523434"
      ]
     },
     "execution_count": 28,
     "metadata": {},
     "output_type": "execute_result"
    }
   ],
   "source": [
    "# Kunjungan wisman berdasarkan provinsi teratas di tahun 2023\n",
    "wisman_prov_jenis = wisman_per_pintu_masuk.groupby(['tahun','provinsi','jenis_pintu_masuk']).agg(jumlah_kunjungan = ('jumlah_kunjungan_wisman', 'sum')).reset_index()\n",
    "wisman_prov_jenis_2023 = wisman_prov_jenis[wisman_prov_jenis['tahun']== 2023]\n",
    "wisman_prov_jenis_2023.sort_values(by='jumlah_kunjungan', ascending=False).head(3)\n",
    "\n",
    "# 3 Provinsi teratas dari jumlah kunjungan yang menerima kunjungan wisman yaitu Bali melalui udara 5.2 juta kunjungan, DKI Jakarta melalui udara 1,9 Juta kunjungan\n",
    "# dan Kep.Riau melalui jalur laut 1.5 juta kunjungan. Semenjak 2017-2019 dan 2023 ini memang ketiga provinsi tersebut selalu berada di posisi tiga teratas."
   ]
  },
  {
   "cell_type": "code",
   "execution_count": 29,
   "id": "4c6fe1ef-05bb-4c1f-902a-de1953a04dea",
   "metadata": {},
   "outputs": [
    {
     "data": {
      "text/html": [
       "<div>\n",
       "<style scoped>\n",
       "    .dataframe tbody tr th:only-of-type {\n",
       "        vertical-align: middle;\n",
       "    }\n",
       "\n",
       "    .dataframe tbody tr th {\n",
       "        vertical-align: top;\n",
       "    }\n",
       "\n",
       "    .dataframe thead th {\n",
       "        text-align: right;\n",
       "    }\n",
       "</style>\n",
       "<table border=\"1\" class=\"dataframe\">\n",
       "  <thead>\n",
       "    <tr style=\"text-align: right;\">\n",
       "      <th></th>\n",
       "      <th>tahun</th>\n",
       "      <th>provinsi</th>\n",
       "      <th>jumlah_kunjungan</th>\n",
       "    </tr>\n",
       "  </thead>\n",
       "  <tbody>\n",
       "    <tr>\n",
       "      <th>115</th>\n",
       "      <td>2023</td>\n",
       "      <td>BALI</td>\n",
       "      <td>5270794</td>\n",
       "    </tr>\n",
       "    <tr>\n",
       "      <th>117</th>\n",
       "      <td>2023</td>\n",
       "      <td>DKI JAKARTA</td>\n",
       "      <td>1953005</td>\n",
       "    </tr>\n",
       "    <tr>\n",
       "      <th>126</th>\n",
       "      <td>2023</td>\n",
       "      <td>PROVINSI LAINNYA</td>\n",
       "      <td>1938956</td>\n",
       "    </tr>\n",
       "    <tr>\n",
       "      <th>122</th>\n",
       "      <td>2023</td>\n",
       "      <td>KEP. RIAU</td>\n",
       "      <td>1523434</td>\n",
       "    </tr>\n",
       "    <tr>\n",
       "      <th>120</th>\n",
       "      <td>2023</td>\n",
       "      <td>JAWA TIMUR</td>\n",
       "      <td>218458</td>\n",
       "    </tr>\n",
       "    <tr>\n",
       "      <th>132</th>\n",
       "      <td>2023</td>\n",
       "      <td>SUMATERA UTARA</td>\n",
       "      <td>196475</td>\n",
       "    </tr>\n",
       "    <tr>\n",
       "      <th>116</th>\n",
       "      <td>2023</td>\n",
       "      <td>DI YOGYAKARTA</td>\n",
       "      <td>105486</td>\n",
       "    </tr>\n",
       "    <tr>\n",
       "      <th>124</th>\n",
       "      <td>2023</td>\n",
       "      <td>NUSA TENGGARA TIMUR</td>\n",
       "      <td>96233</td>\n",
       "    </tr>\n",
       "    <tr>\n",
       "      <th>121</th>\n",
       "      <td>2023</td>\n",
       "      <td>KALIMANTAN BARAT</td>\n",
       "      <td>73449</td>\n",
       "    </tr>\n",
       "    <tr>\n",
       "      <th>125</th>\n",
       "      <td>2023</td>\n",
       "      <td>PAPUA</td>\n",
       "      <td>67413</td>\n",
       "    </tr>\n",
       "  </tbody>\n",
       "</table>\n",
       "</div>"
      ],
      "text/plain": [
       "     tahun             provinsi  jumlah_kunjungan\n",
       "115   2023                 BALI           5270794\n",
       "117   2023          DKI JAKARTA           1953005\n",
       "126   2023     PROVINSI LAINNYA           1938956\n",
       "122   2023            KEP. RIAU           1523434\n",
       "120   2023           JAWA TIMUR            218458\n",
       "132   2023       SUMATERA UTARA            196475\n",
       "116   2023        DI YOGYAKARTA            105486\n",
       "124   2023  NUSA TENGGARA TIMUR             96233\n",
       "121   2023     KALIMANTAN BARAT             73449\n",
       "125   2023                PAPUA             67413"
      ]
     },
     "execution_count": 29,
     "metadata": {},
     "output_type": "execute_result"
    }
   ],
   "source": [
    "# Top 10 provinsi dengan jumlah kunjungan Wisman terbanyak tahun 2023\n",
    "wisman_prov = wisman_per_pintu_masuk.groupby(['tahun','provinsi']).agg(jumlah_kunjungan = ('jumlah_kunjungan_wisman', 'sum')).reset_index()\n",
    "wisman_prov_2023 = wisman_prov[wisman_prov['tahun'] == 2023]\n",
    "wisman_prov_2023 = wisman_prov_2023.sort_values(by=\"jumlah_kunjungan\", ascending=False).head(10)\n",
    "wisman_prov_2023\n",
    "\n",
    "# Bali menjadi provinsi paling banyak dikunjungi wisman di tahun 2023. Setelah dicek juga ditahun-tahun sebelumnya juga konsisten menjaadi yang terbanyak (kecuali pada tahun pandemi)"
   ]
  },
  {
   "cell_type": "code",
   "execution_count": 30,
   "id": "83ba1f68-d6b2-4acd-bee1-6da30f2f62bc",
   "metadata": {},
   "outputs": [
    {
     "data": {
      "image/png": "[encoded data removed]",
      "text/plain": [
       "<Figure size 1000x600 with 1 Axes>"
      ]
     },
     "metadata": {},
     "output_type": "display_data"
    }
   ],
   "source": [
    "plt.figure(figsize=(10, 6))\n",
    "\n",
    "sns.barplot(data=wisman_prov_2023, y='provinsi', x='jumlah_kunjungan')\n",
    "plt.title('Top 10 Provinsi Kunjungan Wisnus')\n",
    "plt.xticks(rotation=30) \n",
    "plt.tight_layout()\n",
    "plt.show()"
   ]
  },
  {
   "cell_type": "markdown",
   "id": "3f0e4e7e-7ba5-496c-9f17-cda9c114ad53",
   "metadata": {},
   "source": [
    "### Wisnus Berdasarkan Tujuan Wisata (Provinsi) \n",
    "###### (2017 - 2023Nov)"
   ]
  },
  {
   "cell_type": "code",
   "execution_count": 31,
   "id": "8e6a965e-b1b0-42af-893d-f939b2d0d655",
   "metadata": {},
   "outputs": [
    {
     "data": {
      "text/html": [
       "<div>\n",
       "<style scoped>\n",
       "    .dataframe tbody tr th:only-of-type {\n",
       "        vertical-align: middle;\n",
       "    }\n",
       "\n",
       "    .dataframe tbody tr th {\n",
       "        vertical-align: top;\n",
       "    }\n",
       "\n",
       "    .dataframe thead th {\n",
       "        text-align: right;\n",
       "    }\n",
       "</style>\n",
       "<table border=\"1\" class=\"dataframe\">\n",
       "  <thead>\n",
       "    <tr style=\"text-align: right;\">\n",
       "      <th></th>\n",
       "      <th>provinsi</th>\n",
       "      <th>bulan</th>\n",
       "      <th>jumlah_kunjungan_wisnus</th>\n",
       "      <th>tahun</th>\n",
       "    </tr>\n",
       "  </thead>\n",
       "  <tbody>\n",
       "    <tr>\n",
       "      <th>0</th>\n",
       "      <td>ACEH</td>\n",
       "      <td>Januari</td>\n",
       "      <td>663437</td>\n",
       "      <td>2023</td>\n",
       "    </tr>\n",
       "    <tr>\n",
       "      <th>1</th>\n",
       "      <td>SUMATERA UTARA</td>\n",
       "      <td>Januari</td>\n",
       "      <td>2962641</td>\n",
       "      <td>2023</td>\n",
       "    </tr>\n",
       "    <tr>\n",
       "      <th>2</th>\n",
       "      <td>SUMATERA BARAT</td>\n",
       "      <td>Januari</td>\n",
       "      <td>1345098</td>\n",
       "      <td>2023</td>\n",
       "    </tr>\n",
       "    <tr>\n",
       "      <th>3</th>\n",
       "      <td>RIAU</td>\n",
       "      <td>Januari</td>\n",
       "      <td>914340</td>\n",
       "      <td>2023</td>\n",
       "    </tr>\n",
       "    <tr>\n",
       "      <th>4</th>\n",
       "      <td>JAMBI</td>\n",
       "      <td>Januari</td>\n",
       "      <td>380949</td>\n",
       "      <td>2023</td>\n",
       "    </tr>\n",
       "  </tbody>\n",
       "</table>\n",
       "</div>"
      ],
      "text/plain": [
       "         provinsi    bulan  jumlah_kunjungan_wisnus  tahun\n",
       "0            ACEH  Januari                   663437   2023\n",
       "1  SUMATERA UTARA  Januari                  2962641   2023\n",
       "2  SUMATERA BARAT  Januari                  1345098   2023\n",
       "3            RIAU  Januari                   914340   2023\n",
       "4           JAMBI  Januari                   380949   2023"
      ]
     },
     "execution_count": 31,
     "metadata": {},
     "output_type": "execute_result"
    }
   ],
   "source": [
    "wisnus_per_tujuan.head()"
   ]
  },
  {
   "cell_type": "code",
   "execution_count": 32,
   "id": "3fd3bd62-5d88-4464-b9f6-aef7e273c8f4",
   "metadata": {},
   "outputs": [
    {
     "name": "stdout",
     "output_type": "stream",
     "text": [
      "<class 'pandas.core.frame.DataFrame'>\n",
      "RangeIndex: 2006 entries, 0 to 2005\n",
      "Data columns (total 4 columns):\n",
      " #   Column                   Non-Null Count  Dtype \n",
      "---  ------                   --------------  ----- \n",
      " 0   provinsi                 2006 non-null   object\n",
      " 1   bulan                    2006 non-null   object\n",
      " 2   jumlah_kunjungan_wisnus  2006 non-null   int64 \n",
      " 3   tahun                    2006 non-null   int64 \n",
      "dtypes: int64(2), object(2)\n",
      "memory usage: 62.8+ KB\n"
     ]
    }
   ],
   "source": [
    "wisnus_per_tujuan.info()"
   ]
  },
  {
   "cell_type": "code",
   "execution_count": 33,
   "id": "9c2b2e3c-a038-4253-847e-b0d9f457a7e0",
   "metadata": {},
   "outputs": [
    {
     "data": {
      "text/plain": [
       "array([2023, 2022, 2021, 2020, 2019], dtype=int64)"
      ]
     },
     "execution_count": 33,
     "metadata": {},
     "output_type": "execute_result"
    }
   ],
   "source": [
    "wisnus_per_tujuan['tahun'].unique()"
   ]
  },
  {
   "cell_type": "code",
   "execution_count": 34,
   "id": "96f244e6-aee5-4ed8-aa89-14f450a5017a",
   "metadata": {},
   "outputs": [
    {
     "data": {
      "text/html": [
       "<div>\n",
       "<style scoped>\n",
       "    .dataframe tbody tr th:only-of-type {\n",
       "        vertical-align: middle;\n",
       "    }\n",
       "\n",
       "    .dataframe tbody tr th {\n",
       "        vertical-align: top;\n",
       "    }\n",
       "\n",
       "    .dataframe thead th {\n",
       "        text-align: right;\n",
       "    }\n",
       "</style>\n",
       "<table border=\"1\" class=\"dataframe\">\n",
       "  <thead>\n",
       "    <tr style=\"text-align: right;\">\n",
       "      <th></th>\n",
       "      <th>tahun</th>\n",
       "      <th>jumlah_kunjungan</th>\n",
       "    </tr>\n",
       "  </thead>\n",
       "  <tbody>\n",
       "    <tr>\n",
       "      <th>0</th>\n",
       "      <td>2019</td>\n",
       "      <td>722158733</td>\n",
       "    </tr>\n",
       "    <tr>\n",
       "      <th>1</th>\n",
       "      <td>2020</td>\n",
       "      <td>524571392</td>\n",
       "    </tr>\n",
       "    <tr>\n",
       "      <th>2</th>\n",
       "      <td>2021</td>\n",
       "      <td>613299459</td>\n",
       "    </tr>\n",
       "    <tr>\n",
       "      <th>3</th>\n",
       "      <td>2022</td>\n",
       "      <td>734864693</td>\n",
       "    </tr>\n",
       "    <tr>\n",
       "      <th>4</th>\n",
       "      <td>2023</td>\n",
       "      <td>749114709</td>\n",
       "    </tr>\n",
       "  </tbody>\n",
       "</table>\n",
       "</div>"
      ],
      "text/plain": [
       "   tahun  jumlah_kunjungan\n",
       "0   2019         722158733\n",
       "1   2020         524571392\n",
       "2   2021         613299459\n",
       "3   2022         734864693\n",
       "4   2023         749114709"
      ]
     },
     "execution_count": 34,
     "metadata": {},
     "output_type": "execute_result"
    }
   ],
   "source": [
    "wisnus_pertahun = wisnus_per_tujuan.groupby('tahun').agg(jumlah_kunjungan = ('jumlah_kunjungan_wisnus', 'sum')).reset_index()\n",
    "wisnus_pertahun\n",
    "\n",
    "# Terlihat bahwa pandemi juga menurunkan jumlah kunjungan wisnus secara signifikan. "
   ]
  },
  {
   "cell_type": "code",
   "execution_count": 35,
   "id": "a23db8f3-9af9-4db4-bf14-9fa70d0933c0",
   "metadata": {},
   "outputs": [
    {
     "data": {
      "image/png": "[encoded data removed]",
      "text/plain": [
       "<Figure size 640x480 with 1 Axes>"
      ]
     },
     "metadata": {},
     "output_type": "display_data"
    }
   ],
   "source": [
    "sns.barplot(data=wisnus_pertahun, x='tahun', y='jumlah_kunjungan')\n",
    "plt.title('Jumlah Kunjungan Wisnus per Tahun')\n",
    "plt.ticklabel_format(style='plain', axis='y')\n",
    "plt.tight_layout()\n",
    "plt.show()\n",
    "\n",
    "# Hal yang menarik disini adalah jumlah kunjungan wisnus pada tahun 2021 justru mengalami kenaikan. Padahal Jumlah kunjungan wisman dan devisa pariwisata\n",
    "# pada tahun yang sama mengalami penurunan. Hal ini artinya, jumlah kunjungan wisman lebih mempengaruhi secara signifikan terhadap devisa pariwisata\n",
    "# dibandingkan dengan jumlah kunjungan wisnus."
   ]
  },
  {
   "cell_type": "code",
   "execution_count": 36,
   "id": "7d9ff7bc-5aa8-422c-8d23-6c39379771e7",
   "metadata": {},
   "outputs": [
    {
     "data": {
      "text/html": [
       "<div>\n",
       "<style scoped>\n",
       "    .dataframe tbody tr th:only-of-type {\n",
       "        vertical-align: middle;\n",
       "    }\n",
       "\n",
       "    .dataframe tbody tr th {\n",
       "        vertical-align: top;\n",
       "    }\n",
       "\n",
       "    .dataframe thead th {\n",
       "        text-align: right;\n",
       "    }\n",
       "</style>\n",
       "<table border=\"1\" class=\"dataframe\">\n",
       "  <thead>\n",
       "    <tr style=\"text-align: right;\">\n",
       "      <th></th>\n",
       "      <th>provinsi</th>\n",
       "      <th>jumlah_kunjungan</th>\n",
       "    </tr>\n",
       "  </thead>\n",
       "  <tbody>\n",
       "    <tr>\n",
       "      <th>10</th>\n",
       "      <td>JAWA TIMUR</td>\n",
       "      <td>187110988</td>\n",
       "    </tr>\n",
       "    <tr>\n",
       "      <th>8</th>\n",
       "      <td>JAWA BARAT</td>\n",
       "      <td>139117269</td>\n",
       "    </tr>\n",
       "    <tr>\n",
       "      <th>9</th>\n",
       "      <td>JAWA TENGAH</td>\n",
       "      <td>106531426</td>\n",
       "    </tr>\n",
       "    <tr>\n",
       "      <th>5</th>\n",
       "      <td>DKI JAKARTA</td>\n",
       "      <td>56108553</td>\n",
       "    </tr>\n",
       "    <tr>\n",
       "      <th>2</th>\n",
       "      <td>BANTEN</td>\n",
       "      <td>39595456</td>\n",
       "    </tr>\n",
       "    <tr>\n",
       "      <th>4</th>\n",
       "      <td>DI YOGYAKARTA</td>\n",
       "      <td>27727852</td>\n",
       "    </tr>\n",
       "    <tr>\n",
       "      <th>33</th>\n",
       "      <td>SUMATERA UTARA</td>\n",
       "      <td>24361214</td>\n",
       "    </tr>\n",
       "    <tr>\n",
       "      <th>27</th>\n",
       "      <td>SULAWESI SELATAN</td>\n",
       "      <td>21533461</td>\n",
       "    </tr>\n",
       "    <tr>\n",
       "      <th>1</th>\n",
       "      <td>BALI</td>\n",
       "      <td>18825682</td>\n",
       "    </tr>\n",
       "    <tr>\n",
       "      <th>31</th>\n",
       "      <td>SUMATERA BARAT</td>\n",
       "      <td>13341536</td>\n",
       "    </tr>\n",
       "  </tbody>\n",
       "</table>\n",
       "</div>"
      ],
      "text/plain": [
       "            provinsi  jumlah_kunjungan\n",
       "10        JAWA TIMUR         187110988\n",
       "8         JAWA BARAT         139117269\n",
       "9        JAWA TENGAH         106531426\n",
       "5        DKI JAKARTA          56108553\n",
       "2             BANTEN          39595456\n",
       "4      DI YOGYAKARTA          27727852\n",
       "33    SUMATERA UTARA          24361214\n",
       "27  SULAWESI SELATAN          21533461\n",
       "1               BALI          18825682\n",
       "31    SUMATERA BARAT          13341536"
      ]
     },
     "execution_count": 36,
     "metadata": {},
     "output_type": "execute_result"
    }
   ],
   "source": [
    "wisnus_per_provinsi = wisnus_per_tujuan[wisnus_per_tujuan['tahun'] == 2023]\n",
    "wisnus_per_provinsi_2023 = wisnus_per_provinsi.groupby('provinsi').agg(jumlah_kunjungan = ('jumlah_kunjungan_wisnus', 'sum')).reset_index()\n",
    "wisnus_per_provinsi_2023 = wisnus_per_provinsi_2023.sort_values(by= 'jumlah_kunjungan', ascending=False)\n",
    "wisnus_per_provinsi_2023.head(10)"
   ]
  },
  {
   "cell_type": "code",
   "execution_count": 37,
   "id": "6a2c4766-6164-407a-9a11-73eebdf77b47",
   "metadata": {},
   "outputs": [
    {
     "data": {
      "image/png": "[encoded data removed]",
      "text/plain": [
       "<Figure size 1000x600 with 1 Axes>"
      ]
     },
     "metadata": {},
     "output_type": "display_data"
    }
   ],
   "source": [
    "wisnus_top_10 = wisnus_per_provinsi_2023.head(10)\n",
    "\n",
    "plt.figure(figsize=(10, 6))\n",
    "\n",
    "sns.barplot(data=wisnus_top_10, y='provinsi', x='jumlah_kunjungan')\n",
    "plt.title('Top 10 Provinsi Kunjungan Wisnus')\n",
    "plt.xticks(rotation=30) \n",
    "plt.tight_layout()\n",
    "plt.show()\n",
    "\n",
    "# Setelah di cek dari tahun ke tahun, ternyata Bali justru tidak masuk ke Top 5 Jumlah kunjungan Wisnus. Hal ini artinya terdapat kecenderungan preferensi \n",
    "# yang berbeda antara Wisman dan Wisnus. Provinsi di pulau Jawa selalu berada di posisi 5 teratas seperti visualisasi dibawah.  "
   ]
  },
  {
   "cell_type": "markdown",
   "id": "332c85a0-a650-4976-9ef9-fae0265abd8a",
   "metadata": {},
   "source": [
    "### TPK HOTEL\n",
    "Tingkat Penghunian Kamar Hotel\n"
   ]
  },
  {
   "cell_type": "code",
   "execution_count": 38,
   "id": "5a7bc05d-291e-4599-b9d4-ce56d3c19bb3",
   "metadata": {},
   "outputs": [
    {
     "data": {
      "text/html": [
       "<div>\n",
       "<style scoped>\n",
       "    .dataframe tbody tr th:only-of-type {\n",
       "        vertical-align: middle;\n",
       "    }\n",
       "\n",
       "    .dataframe tbody tr th {\n",
       "        vertical-align: top;\n",
       "    }\n",
       "\n",
       "    .dataframe thead th {\n",
       "        text-align: right;\n",
       "    }\n",
       "</style>\n",
       "<table border=\"1\" class=\"dataframe\">\n",
       "  <thead>\n",
       "    <tr style=\"text-align: right;\">\n",
       "      <th></th>\n",
       "      <th>tahun</th>\n",
       "      <th>provinsi</th>\n",
       "      <th>persentase_tpk_hotel_bintang</th>\n",
       "      <th>persentase_tpk_hotel_nonbintang</th>\n",
       "    </tr>\n",
       "  </thead>\n",
       "  <tbody>\n",
       "    <tr>\n",
       "      <th>0</th>\n",
       "      <td>2017</td>\n",
       "      <td>ACEH</td>\n",
       "      <td>50.34</td>\n",
       "      <td>29.18</td>\n",
       "    </tr>\n",
       "    <tr>\n",
       "      <th>1</th>\n",
       "      <td>2017</td>\n",
       "      <td>SUMATERA UTARA</td>\n",
       "      <td>45.64</td>\n",
       "      <td>36.47</td>\n",
       "    </tr>\n",
       "    <tr>\n",
       "      <th>2</th>\n",
       "      <td>2017</td>\n",
       "      <td>SUMATERA BARAT</td>\n",
       "      <td>54.99</td>\n",
       "      <td>32.86</td>\n",
       "    </tr>\n",
       "    <tr>\n",
       "      <th>3</th>\n",
       "      <td>2017</td>\n",
       "      <td>RIAU</td>\n",
       "      <td>48.14</td>\n",
       "      <td>39.07</td>\n",
       "    </tr>\n",
       "    <tr>\n",
       "      <th>4</th>\n",
       "      <td>2017</td>\n",
       "      <td>JAMBI</td>\n",
       "      <td>46.93</td>\n",
       "      <td>30.19</td>\n",
       "    </tr>\n",
       "  </tbody>\n",
       "</table>\n",
       "</div>"
      ],
      "text/plain": [
       "   tahun        provinsi  persentase_tpk_hotel_bintang  \\\n",
       "0   2017            ACEH                         50.34   \n",
       "1   2017  SUMATERA UTARA                         45.64   \n",
       "2   2017  SUMATERA BARAT                         54.99   \n",
       "3   2017            RIAU                         48.14   \n",
       "4   2017           JAMBI                         46.93   \n",
       "\n",
       "   persentase_tpk_hotel_nonbintang  \n",
       "0                            29.18  \n",
       "1                            36.47  \n",
       "2                            32.86  \n",
       "3                            39.07  \n",
       "4                            30.19  "
      ]
     },
     "execution_count": 38,
     "metadata": {},
     "output_type": "execute_result"
    }
   ],
   "source": [
    "tpk_hotel.head()"
   ]
  },
  {
   "cell_type": "code",
   "execution_count": 39,
   "id": "e18f53b3-1a53-45b0-808b-ec314bfcc402",
   "metadata": {},
   "outputs": [
    {
     "data": {
      "text/html": [
       "<div>\n",
       "<style scoped>\n",
       "    .dataframe tbody tr th:only-of-type {\n",
       "        vertical-align: middle;\n",
       "    }\n",
       "\n",
       "    .dataframe tbody tr th {\n",
       "        vertical-align: top;\n",
       "    }\n",
       "\n",
       "    .dataframe thead th {\n",
       "        text-align: right;\n",
       "    }\n",
       "</style>\n",
       "<table border=\"1\" class=\"dataframe\">\n",
       "  <thead>\n",
       "    <tr style=\"text-align: right;\">\n",
       "      <th></th>\n",
       "      <th>persentase_tpk_hotel_bintang</th>\n",
       "      <th>persentase_tpk_hotel_nonbintang</th>\n",
       "    </tr>\n",
       "  </thead>\n",
       "  <tbody>\n",
       "    <tr>\n",
       "      <th>count</th>\n",
       "      <td>238.000000</td>\n",
       "      <td>238.000000</td>\n",
       "    </tr>\n",
       "    <tr>\n",
       "      <th>mean</th>\n",
       "      <td>45.430924</td>\n",
       "      <td>25.077941</td>\n",
       "    </tr>\n",
       "    <tr>\n",
       "      <th>std</th>\n",
       "      <td>9.818125</td>\n",
       "      <td>8.596539</td>\n",
       "    </tr>\n",
       "    <tr>\n",
       "      <th>min</th>\n",
       "      <td>13.000000</td>\n",
       "      <td>5.820000</td>\n",
       "    </tr>\n",
       "    <tr>\n",
       "      <th>25%</th>\n",
       "      <td>38.537500</td>\n",
       "      <td>19.472500</td>\n",
       "    </tr>\n",
       "    <tr>\n",
       "      <th>50%</th>\n",
       "      <td>46.155000</td>\n",
       "      <td>23.490000</td>\n",
       "    </tr>\n",
       "    <tr>\n",
       "      <th>75%</th>\n",
       "      <td>52.655000</td>\n",
       "      <td>29.792500</td>\n",
       "    </tr>\n",
       "    <tr>\n",
       "      <th>max</th>\n",
       "      <td>66.870000</td>\n",
       "      <td>74.270000</td>\n",
       "    </tr>\n",
       "  </tbody>\n",
       "</table>\n",
       "</div>"
      ],
      "text/plain": [
       "       persentase_tpk_hotel_bintang  persentase_tpk_hotel_nonbintang\n",
       "count                    238.000000                       238.000000\n",
       "mean                      45.430924                        25.077941\n",
       "std                        9.818125                         8.596539\n",
       "min                       13.000000                         5.820000\n",
       "25%                       38.537500                        19.472500\n",
       "50%                       46.155000                        23.490000\n",
       "75%                       52.655000                        29.792500\n",
       "max                       66.870000                        74.270000"
      ]
     },
     "execution_count": 39,
     "metadata": {},
     "output_type": "execute_result"
    }
   ],
   "source": [
    "tpk_hotel_desc = tpk_hotel.drop(columns='tahun')\n",
    "tpk_hotel_desc.describe()"
   ]
  },
  {
   "cell_type": "code",
   "execution_count": 40,
   "id": "ff874352-2e34-49c4-89d8-11509f167837",
   "metadata": {},
   "outputs": [
    {
     "name": "stdout",
     "output_type": "stream",
     "text": [
      "Hotel Bintang: 47.25\n",
      "Hotel Non Bintang: 22.87\n"
     ]
    }
   ],
   "source": [
    "tpk_hotel_2023 = tpk_hotel[tpk_hotel['tahun']== 2023]\n",
    "tpk_hotel_bintang_nasional_2023 = round(tpk_hotel_2023['persentase_tpk_hotel_bintang'].mean(),2)\n",
    "print(\"Hotel Bintang:\",tpk_hotel_bintang_nasional_2023)\n",
    "\n",
    "tpk_hotel_2023 = tpk_hotel[tpk_hotel['tahun']== 2023]\n",
    "tpk_hotel_nonbintang_nasional_2023 = round(tpk_hotel_2023['persentase_tpk_hotel_nonbintang'].mean(),2)\n",
    "print(\"Hotel Non Bintang:\",tpk_hotel_nonbintang_nasional_2023) \n",
    "\n",
    "# TPK Hotel Bintang di tahun 2023 di Indonesia yaitu 47.25% dan Non Bintang yaitu 22.87%"
   ]
  },
  {
   "cell_type": "code",
   "execution_count": 41,
   "id": "09d7719a-1316-41dd-afca-893e631bed40",
   "metadata": {},
   "outputs": [
    {
     "data": {
      "text/html": [
       "<div>\n",
       "<style scoped>\n",
       "    .dataframe tbody tr th:only-of-type {\n",
       "        vertical-align: middle;\n",
       "    }\n",
       "\n",
       "    .dataframe tbody tr th {\n",
       "        vertical-align: top;\n",
       "    }\n",
       "\n",
       "    .dataframe thead th {\n",
       "        text-align: right;\n",
       "    }\n",
       "</style>\n",
       "<table border=\"1\" class=\"dataframe\">\n",
       "  <thead>\n",
       "    <tr style=\"text-align: right;\">\n",
       "      <th></th>\n",
       "      <th>provinsi</th>\n",
       "      <th>persentase_tpk_hotel_bintang</th>\n",
       "    </tr>\n",
       "  </thead>\n",
       "  <tbody>\n",
       "    <tr>\n",
       "      <th>14</th>\n",
       "      <td>KALIMANTAN TIMUR</td>\n",
       "      <td>60.56</td>\n",
       "    </tr>\n",
       "    <tr>\n",
       "      <th>4</th>\n",
       "      <td>DI YOGYAKARTA</td>\n",
       "      <td>59.29</td>\n",
       "    </tr>\n",
       "    <tr>\n",
       "      <th>12</th>\n",
       "      <td>KALIMANTAN SELATAN</td>\n",
       "      <td>54.69</td>\n",
       "    </tr>\n",
       "    <tr>\n",
       "      <th>5</th>\n",
       "      <td>DKI JAKARTA</td>\n",
       "      <td>54.27</td>\n",
       "    </tr>\n",
       "    <tr>\n",
       "      <th>11</th>\n",
       "      <td>KALIMANTAN BARAT</td>\n",
       "      <td>54.26</td>\n",
       "    </tr>\n",
       "  </tbody>\n",
       "</table>\n",
       "</div>"
      ],
      "text/plain": [
       "              provinsi  persentase_tpk_hotel_bintang\n",
       "14    KALIMANTAN TIMUR                         60.56\n",
       "4        DI YOGYAKARTA                         59.29\n",
       "12  KALIMANTAN SELATAN                         54.69\n",
       "5          DKI JAKARTA                         54.27\n",
       "11    KALIMANTAN BARAT                         54.26"
      ]
     },
     "execution_count": 41,
     "metadata": {},
     "output_type": "execute_result"
    }
   ],
   "source": [
    "tpk_hotel_bintang_2023 = tpk_hotel[tpk_hotel['tahun'] == 2023]\n",
    "top_tpk_hotel_bintang_2023 = tpk_hotel_bintang_2023.groupby('provinsi').agg(\n",
    "    persentase_tpk_hotel_bintang=('persentase_tpk_hotel_bintang', 'mean')).reset_index()\n",
    "\n",
    "top5_tpk_hotel_bintang_2023 = top_tpk_hotel_bintang_2023.sort_values(\n",
    "    by='persentase_tpk_hotel_bintang', ascending=False).head(5)\n",
    "\n",
    "top5_tpk_hotel_bintang_2023\n",
    "\n",
    "# TPK Hotel bintang tertinggi di tahun 2023 yaitu Provinsi Kalimantan Timur. Setelah dicek ternyata memang sejak tahun 2020 provinsi Kaltim menjadi prvinsi dengan\n",
    "# TPK hotel bintang tertinggi. Hal ini berkaitan dengan tahun dimulainya proyek pembangunan IKN, sehingga proyek tersebut juga dapat mempengaruhi TPK di provinsi Kaltim"
   ]
  },
  {
   "cell_type": "code",
   "execution_count": 42,
   "id": "f4ea6bcc-b6a1-4be6-bf65-05d9482a41d5",
   "metadata": {},
   "outputs": [
    {
     "data": {
      "text/html": [
       "<div>\n",
       "<style scoped>\n",
       "    .dataframe tbody tr th:only-of-type {\n",
       "        vertical-align: middle;\n",
       "    }\n",
       "\n",
       "    .dataframe tbody tr th {\n",
       "        vertical-align: top;\n",
       "    }\n",
       "\n",
       "    .dataframe thead th {\n",
       "        text-align: right;\n",
       "    }\n",
       "</style>\n",
       "<table border=\"1\" class=\"dataframe\">\n",
       "  <thead>\n",
       "    <tr style=\"text-align: right;\">\n",
       "      <th></th>\n",
       "      <th>provinsi</th>\n",
       "      <th>persentase_tpk_hotel_nonbintang</th>\n",
       "    </tr>\n",
       "  </thead>\n",
       "  <tbody>\n",
       "    <tr>\n",
       "      <th>5</th>\n",
       "      <td>DKI JAKARTA</td>\n",
       "      <td>39.31</td>\n",
       "    </tr>\n",
       "    <tr>\n",
       "      <th>17</th>\n",
       "      <td>KEP. RIAU</td>\n",
       "      <td>33.22</td>\n",
       "    </tr>\n",
       "    <tr>\n",
       "      <th>15</th>\n",
       "      <td>KALIMANTAN UTARA</td>\n",
       "      <td>33.22</td>\n",
       "    </tr>\n",
       "    <tr>\n",
       "      <th>1</th>\n",
       "      <td>BALI</td>\n",
       "      <td>31.94</td>\n",
       "    </tr>\n",
       "    <tr>\n",
       "      <th>11</th>\n",
       "      <td>KALIMANTAN BARAT</td>\n",
       "      <td>28.32</td>\n",
       "    </tr>\n",
       "  </tbody>\n",
       "</table>\n",
       "</div>"
      ],
      "text/plain": [
       "            provinsi  persentase_tpk_hotel_nonbintang\n",
       "5        DKI JAKARTA                            39.31\n",
       "17         KEP. RIAU                            33.22\n",
       "15  KALIMANTAN UTARA                            33.22\n",
       "1               BALI                            31.94\n",
       "11  KALIMANTAN BARAT                            28.32"
      ]
     },
     "execution_count": 42,
     "metadata": {},
     "output_type": "execute_result"
    }
   ],
   "source": [
    "tpk_hotel_nonbintang_2023 = tpk_hotel[tpk_hotel['tahun'] == 2023]\n",
    "top_tpk_hotel_nonbintang_2023 = tpk_hotel_nonbintang_2023.groupby('provinsi').agg(\n",
    "    persentase_tpk_hotel_nonbintang=('persentase_tpk_hotel_nonbintang', 'mean')).reset_index()\n",
    "\n",
    "top5_tpk_hotel_nonbintang_2023 = top_tpk_hotel_nonbintang_2023.sort_values(\n",
    "    by='persentase_tpk_hotel_nonbintang', ascending=False).head(5)\n",
    "\n",
    "top5_tpk_hotel_nonbintang_2023\n",
    "\n",
    "# TPK Hotel non bintang tertinggi di tahun 2023 yaitu Provinsi DKI Jakarta. Setelah dicek ternyata memang sejak 8 tahun terakhir provinsi DKI Jakarta\n",
    "# menjadi prvinsi dengan TPK hotel non bintang tertinggi di Indonesia."
   ]
  },
  {
   "cell_type": "code",
   "execution_count": 43,
   "id": "252be2bf-d06b-4b99-9610-b58f3b900b52",
   "metadata": {},
   "outputs": [
    {
     "name": "stdout",
     "output_type": "stream",
     "text": [
      "Hotel Bintang: tahun                                     2018\n",
      "provinsi                           DKI JAKARTA\n",
      "persentase_tpk_hotel_bintang             66.87\n",
      "persentase_tpk_hotel_nonbintang          74.27\n",
      "Name: 44, dtype: object\n",
      "-----\n",
      "Hotel Non Bintang: tahun                                     2018\n",
      "provinsi                           DKI JAKARTA\n",
      "persentase_tpk_hotel_bintang             66.87\n",
      "persentase_tpk_hotel_nonbintang          74.27\n",
      "Name: 44, dtype: object\n"
     ]
    }
   ],
   "source": [
    "highest_hotel_bintang_prov_wisnus = tpk_hotel.loc[tpk_hotel['persentase_tpk_hotel_bintang'].idxmax()]\n",
    "highest_hotel_nonbintang_prov_wisnus = tpk_hotel.loc[tpk_hotel['persentase_tpk_hotel_nonbintang'].idxmax()]\n",
    "\n",
    "print(\"Hotel Bintang:\",highest_hotel_bintang_prov_wisnus)\n",
    "print(\"-----\")\n",
    "print(\"Hotel Non Bintang:\",highest_hotel_nonbintang_prov_wisnus)\n",
    "\n",
    "# TPK Hotel bintang dan non bintang paling tinggi diraih provinsi DKI Jakarta 2018. Ini bisa terjadi karena pada saat itu ada event besar Asian Games\n",
    "# Sehingga dari sini kita tahu bahwa TPK Hotel juga dipengaruhi oleh jumlah kunjungan wisman"
   ]
  },
  {
   "cell_type": "code",
   "execution_count": 44,
   "id": "fc2363e2-e77b-4b24-9e19-4b1779adf6e2",
   "metadata": {},
   "outputs": [
    {
     "data": {
      "text/html": [
       "<div>\n",
       "<style scoped>\n",
       "    .dataframe tbody tr th:only-of-type {\n",
       "        vertical-align: middle;\n",
       "    }\n",
       "\n",
       "    .dataframe tbody tr th {\n",
       "        vertical-align: top;\n",
       "    }\n",
       "\n",
       "    .dataframe thead th {\n",
       "        text-align: right;\n",
       "    }\n",
       "</style>\n",
       "<table border=\"1\" class=\"dataframe\">\n",
       "  <thead>\n",
       "    <tr style=\"text-align: right;\">\n",
       "      <th></th>\n",
       "      <th>provinsi</th>\n",
       "      <th>jumlah_hotel</th>\n",
       "      <th>jumlah_kamar</th>\n",
       "      <th>tahun</th>\n",
       "    </tr>\n",
       "  </thead>\n",
       "  <tbody>\n",
       "    <tr>\n",
       "      <th>0</th>\n",
       "      <td>ACEH</td>\n",
       "      <td>451</td>\n",
       "      <td>31083</td>\n",
       "      <td>2019</td>\n",
       "    </tr>\n",
       "    <tr>\n",
       "      <th>1</th>\n",
       "      <td>SUMATERA UTARA</td>\n",
       "      <td>1191</td>\n",
       "      <td>12171</td>\n",
       "      <td>2019</td>\n",
       "    </tr>\n",
       "    <tr>\n",
       "      <th>2</th>\n",
       "      <td>SUMATERA BARAT</td>\n",
       "      <td>708</td>\n",
       "      <td>17169</td>\n",
       "      <td>2019</td>\n",
       "    </tr>\n",
       "    <tr>\n",
       "      <th>3</th>\n",
       "      <td>RIAU</td>\n",
       "      <td>503</td>\n",
       "      <td>6710</td>\n",
       "      <td>2019</td>\n",
       "    </tr>\n",
       "    <tr>\n",
       "      <th>4</th>\n",
       "      <td>JAMBI</td>\n",
       "      <td>225</td>\n",
       "      <td>14672</td>\n",
       "      <td>2019</td>\n",
       "    </tr>\n",
       "  </tbody>\n",
       "</table>\n",
       "</div>"
      ],
      "text/plain": [
       "         provinsi  jumlah_hotel  jumlah_kamar  tahun\n",
       "0            ACEH           451         31083   2019\n",
       "1  SUMATERA UTARA          1191         12171   2019\n",
       "2  SUMATERA BARAT           708         17169   2019\n",
       "3            RIAU           503          6710   2019\n",
       "4           JAMBI           225         14672   2019"
      ]
     },
     "execution_count": 44,
     "metadata": {},
     "output_type": "execute_result"
    }
   ],
   "source": [
    "hotel_akomodasi_kamar.head()"
   ]
  },
  {
   "cell_type": "code",
   "execution_count": 45,
   "id": "cea3e1eb-b963-4bb4-b470-9b07be7d6536",
   "metadata": {},
   "outputs": [
    {
     "data": {
      "text/html": [
       "<div>\n",
       "<style scoped>\n",
       "    .dataframe tbody tr th:only-of-type {\n",
       "        vertical-align: middle;\n",
       "    }\n",
       "\n",
       "    .dataframe tbody tr th {\n",
       "        vertical-align: top;\n",
       "    }\n",
       "\n",
       "    .dataframe thead th {\n",
       "        text-align: right;\n",
       "    }\n",
       "</style>\n",
       "<table border=\"1\" class=\"dataframe\">\n",
       "  <thead>\n",
       "    <tr style=\"text-align: right;\">\n",
       "      <th></th>\n",
       "      <th>jumlah_hotel</th>\n",
       "      <th>jumlah_kamar</th>\n",
       "    </tr>\n",
       "  </thead>\n",
       "  <tbody>\n",
       "    <tr>\n",
       "      <th>count</th>\n",
       "      <td>170.000000</td>\n",
       "      <td>170.000000</td>\n",
       "    </tr>\n",
       "    <tr>\n",
       "      <th>mean</th>\n",
       "      <td>855.752941</td>\n",
       "      <td>22638.029412</td>\n",
       "    </tr>\n",
       "    <tr>\n",
       "      <th>std</th>\n",
       "      <td>1002.385019</td>\n",
       "      <td>27133.679782</td>\n",
       "    </tr>\n",
       "    <tr>\n",
       "      <th>min</th>\n",
       "      <td>113.000000</td>\n",
       "      <td>2106.000000</td>\n",
       "    </tr>\n",
       "    <tr>\n",
       "      <th>25%</th>\n",
       "      <td>277.250000</td>\n",
       "      <td>6720.500000</td>\n",
       "    </tr>\n",
       "    <tr>\n",
       "      <th>50%</th>\n",
       "      <td>491.000000</td>\n",
       "      <td>11010.500000</td>\n",
       "    </tr>\n",
       "    <tr>\n",
       "      <th>75%</th>\n",
       "      <td>888.750000</td>\n",
       "      <td>22645.500000</td>\n",
       "    </tr>\n",
       "    <tr>\n",
       "      <th>max</th>\n",
       "      <td>4784.000000</td>\n",
       "      <td>123399.000000</td>\n",
       "    </tr>\n",
       "  </tbody>\n",
       "</table>\n",
       "</div>"
      ],
      "text/plain": [
       "       jumlah_hotel   jumlah_kamar\n",
       "count    170.000000     170.000000\n",
       "mean     855.752941   22638.029412\n",
       "std     1002.385019   27133.679782\n",
       "min      113.000000    2106.000000\n",
       "25%      277.250000    6720.500000\n",
       "50%      491.000000   11010.500000\n",
       "75%      888.750000   22645.500000\n",
       "max     4784.000000  123399.000000"
      ]
     },
     "execution_count": 45,
     "metadata": {},
     "output_type": "execute_result"
    }
   ],
   "source": [
    "hotel_akomodasi_kamar_desc= hotel_akomodasi_kamar.drop(columns='tahun')\n",
    "hotel_akomodasi_kamar_desc.describe()"
   ]
  },
  {
   "cell_type": "code",
   "execution_count": 46,
   "id": "646bb781-670a-4946-b172-0a1660302639",
   "metadata": {},
   "outputs": [
    {
     "name": "stdout",
     "output_type": "stream",
     "text": [
      "Jumlah Hotel: 29005\n",
      "Jumlah Kamar: 3848465\n"
     ]
    }
   ],
   "source": [
    "hotel_akomodasi_kamar_2023 = hotel_akomodasi_kamar[hotel_akomodasi_kamar['tahun']==2023]\n",
    "jumlah_hotel_2023 = hotel_akomodasi_kamar_2023['jumlah_hotel'].sum()\n",
    "print(\"Jumlah Hotel:\",jumlah_hotel_2023)\n",
    "\n",
    "jumlah_kamar_2023 = hotel_akomodasi_kamar['jumlah_kamar'].sum()\n",
    "print(\"Jumlah Kamar:\",jumlah_kamar_2023)\n",
    "\n",
    "# Pada tahun 2023 Jumlah hotel dan akomodasi lainnya di Indonesia yaitu 29K hotel dan jumlah kamar dan akomodasi lainnya yaitu 745K kamar"
   ]
  },
  {
   "cell_type": "code",
   "execution_count": 47,
   "id": "1dcb797a-0b85-4a70-812c-76b2f2d7efa3",
   "metadata": {},
   "outputs": [
    {
     "data": {
      "text/html": [
       "<div>\n",
       "<style scoped>\n",
       "    .dataframe tbody tr th:only-of-type {\n",
       "        vertical-align: middle;\n",
       "    }\n",
       "\n",
       "    .dataframe tbody tr th {\n",
       "        vertical-align: top;\n",
       "    }\n",
       "\n",
       "    .dataframe thead th {\n",
       "        text-align: right;\n",
       "    }\n",
       "</style>\n",
       "<table border=\"1\" class=\"dataframe\">\n",
       "  <thead>\n",
       "    <tr style=\"text-align: right;\">\n",
       "      <th></th>\n",
       "      <th>provinsi</th>\n",
       "      <th>jumlah_hotel</th>\n",
       "    </tr>\n",
       "  </thead>\n",
       "  <tbody>\n",
       "    <tr>\n",
       "      <th>1</th>\n",
       "      <td>BALI</td>\n",
       "      <td>3895</td>\n",
       "    </tr>\n",
       "    <tr>\n",
       "      <th>10</th>\n",
       "      <td>JAWA TIMUR</td>\n",
       "      <td>3783</td>\n",
       "    </tr>\n",
       "    <tr>\n",
       "      <th>8</th>\n",
       "      <td>JAWA BARAT</td>\n",
       "      <td>3119</td>\n",
       "    </tr>\n",
       "    <tr>\n",
       "      <th>9</th>\n",
       "      <td>JAWA TENGAH</td>\n",
       "      <td>2019</td>\n",
       "    </tr>\n",
       "    <tr>\n",
       "      <th>4</th>\n",
       "      <td>DI YOGYAKARTA</td>\n",
       "      <td>1820</td>\n",
       "    </tr>\n",
       "  </tbody>\n",
       "</table>\n",
       "</div>"
      ],
      "text/plain": [
       "         provinsi  jumlah_hotel\n",
       "1            BALI          3895\n",
       "10     JAWA TIMUR          3783\n",
       "8      JAWA BARAT          3119\n",
       "9     JAWA TENGAH          2019\n",
       "4   DI YOGYAKARTA          1820"
      ]
     },
     "execution_count": 47,
     "metadata": {},
     "output_type": "execute_result"
    }
   ],
   "source": [
    "hotel_akomodasi_kamar_2023_group = hotel_akomodasi_kamar_2023.groupby('provinsi').agg(jumlah_hotel= ('jumlah_hotel', 'sum')).reset_index()\n",
    "hotel_akomodasi_kamar_2023_group_desc = hotel_akomodasi_kamar_2023_group.sort_values(by='jumlah_hotel', ascending=False).head()\n",
    "hotel_akomodasi_kamar_2023_group_desc\n",
    "# Bali menjadi provinsi dengan jumlah hotel dan akomodasi lainnya tertinggi pada tahun 2023. Di tahun sebelum-sebelumnya (kecuali tahun pandemi)\n",
    "# jumlah hotel dan akomodasi lainnya di Bali juga banyak. Kemudian di top 5 dibawahnya ada provinsi di pulau Jawa. Hal ini artinya banyaknya jumlah\n",
    "# hotel dan akomodasi lainnya juga dapat berpengaruh terhadap jumlah kunjungan wisman dan wisnus."
   ]
  },
  {
   "cell_type": "code",
   "execution_count": 48,
   "id": "9b9c39c2-4cbb-47aa-8855-da4364d4d7db",
   "metadata": {},
   "outputs": [
    {
     "data": {
      "image/png": "[encoded data removed]",
      "text/plain": [
       "<Figure size 1000x600 with 1 Axes>"
      ]
     },
     "metadata": {},
     "output_type": "display_data"
    }
   ],
   "source": [
    "wisnus_top_10 = wisnus_per_provinsi_2023.head(10)\n",
    "\n",
    "plt.figure(figsize=(10, 6))\n",
    "top5_hotel_akomodasi_kamar_2023_group_desc = hotel_akomodasi_kamar_2023_group_desc.head(5)\n",
    "sns.barplot(data=top5_hotel_akomodasi_kamar_2023_group_desc, y='provinsi', x='jumlah_hotel')\n",
    "plt.title('Top 10 Provinsi Kunjungan Wisnus')\n",
    "plt.xticks(rotation=30) \n",
    "plt.tight_layout()\n",
    "plt.show()"
   ]
  },
  {
   "cell_type": "markdown",
   "id": "9fd7480a-9213-4152-b125-aafdc40b49ed",
   "metadata": {},
   "source": [
    "### Perbandingan Jumlah Wisatawan Asing (per Orang) di Negara ASEAN"
   ]
  },
  {
   "cell_type": "code",
   "execution_count": 49,
   "id": "f78f201e-23ae-49eb-b5cd-00cda17fce1b",
   "metadata": {},
   "outputs": [
    {
     "data": {
      "text/html": [
       "<div>\n",
       "<style scoped>\n",
       "    .dataframe tbody tr th:only-of-type {\n",
       "        vertical-align: middle;\n",
       "    }\n",
       "\n",
       "    .dataframe tbody tr th {\n",
       "        vertical-align: top;\n",
       "    }\n",
       "\n",
       "    .dataframe thead th {\n",
       "        text-align: right;\n",
       "    }\n",
       "</style>\n",
       "<table border=\"1\" class=\"dataframe\">\n",
       "  <thead>\n",
       "    <tr style=\"text-align: right;\">\n",
       "      <th></th>\n",
       "      <th>country</th>\n",
       "      <th>year</th>\n",
       "      <th>visitors_arrival_in_person</th>\n",
       "    </tr>\n",
       "  </thead>\n",
       "  <tbody>\n",
       "    <tr>\n",
       "      <th>0</th>\n",
       "      <td>Brunei Darussalam</td>\n",
       "      <td>2015</td>\n",
       "      <td>218213</td>\n",
       "    </tr>\n",
       "    <tr>\n",
       "      <th>1</th>\n",
       "      <td>Brunei Darussalam</td>\n",
       "      <td>2016</td>\n",
       "      <td>218809</td>\n",
       "    </tr>\n",
       "    <tr>\n",
       "      <th>2</th>\n",
       "      <td>Brunei Darussalam</td>\n",
       "      <td>2017</td>\n",
       "      <td>258955</td>\n",
       "    </tr>\n",
       "    <tr>\n",
       "      <th>3</th>\n",
       "      <td>Brunei Darussalam</td>\n",
       "      <td>2018</td>\n",
       "      <td>278136</td>\n",
       "    </tr>\n",
       "    <tr>\n",
       "      <th>4</th>\n",
       "      <td>Brunei Darussalam</td>\n",
       "      <td>2019</td>\n",
       "      <td>333244</td>\n",
       "    </tr>\n",
       "  </tbody>\n",
       "</table>\n",
       "</div>"
      ],
      "text/plain": [
       "             country  year  visitors_arrival_in_person\n",
       "0  Brunei Darussalam  2015                      218213\n",
       "1  Brunei Darussalam  2016                      218809\n",
       "2  Brunei Darussalam  2017                      258955\n",
       "3  Brunei Darussalam  2018                      278136\n",
       "4  Brunei Darussalam  2019                      333244"
      ]
     },
     "execution_count": 49,
     "metadata": {},
     "output_type": "execute_result"
    }
   ],
   "source": [
    "asean_wisatawan.head()"
   ]
  },
  {
   "cell_type": "code",
   "execution_count": 50,
   "id": "d62e9c02-89b9-43b9-9e03-784603d7b367",
   "metadata": {},
   "outputs": [
    {
     "name": "stdout",
     "output_type": "stream",
     "text": [
      "<class 'pandas.core.frame.DataFrame'>\n",
      "RangeIndex: 80 entries, 0 to 79\n",
      "Data columns (total 3 columns):\n",
      " #   Column                      Non-Null Count  Dtype \n",
      "---  ------                      --------------  ----- \n",
      " 0   country                     80 non-null     object\n",
      " 1   year                        80 non-null     int64 \n",
      " 2   visitors_arrival_in_person  80 non-null     int64 \n",
      "dtypes: int64(2), object(1)\n",
      "memory usage: 2.0+ KB\n"
     ]
    }
   ],
   "source": [
    "asean_wisatawan.info()"
   ]
  },
  {
   "cell_type": "code",
   "execution_count": 51,
   "id": "0193efa7-7cba-4d79-b9c7-860dc2c671f0",
   "metadata": {},
   "outputs": [
    {
     "data": {
      "text/html": [
       "<div>\n",
       "<style scoped>\n",
       "    .dataframe tbody tr th:only-of-type {\n",
       "        vertical-align: middle;\n",
       "    }\n",
       "\n",
       "    .dataframe tbody tr th {\n",
       "        vertical-align: top;\n",
       "    }\n",
       "\n",
       "    .dataframe thead th {\n",
       "        text-align: right;\n",
       "    }\n",
       "</style>\n",
       "<table border=\"1\" class=\"dataframe\">\n",
       "  <thead>\n",
       "    <tr style=\"text-align: right;\">\n",
       "      <th></th>\n",
       "      <th>visitors_arrival_in_person</th>\n",
       "    </tr>\n",
       "  </thead>\n",
       "  <tbody>\n",
       "    <tr>\n",
       "      <th>count</th>\n",
       "      <td>8.000000e+01</td>\n",
       "    </tr>\n",
       "    <tr>\n",
       "      <th>mean</th>\n",
       "      <td>8.765342e+06</td>\n",
       "    </tr>\n",
       "    <tr>\n",
       "      <th>std</th>\n",
       "      <td>9.979261e+06</td>\n",
       "    </tr>\n",
       "    <tr>\n",
       "      <th>min</th>\n",
       "      <td>0.000000e+00</td>\n",
       "    </tr>\n",
       "    <tr>\n",
       "      <th>25%</th>\n",
       "      <td>1.302514e+06</td>\n",
       "    </tr>\n",
       "    <tr>\n",
       "      <th>50%</th>\n",
       "      <td>4.783148e+06</td>\n",
       "    </tr>\n",
       "    <tr>\n",
       "      <th>75%</th>\n",
       "      <td>1.320156e+07</td>\n",
       "    </tr>\n",
       "    <tr>\n",
       "      <th>max</th>\n",
       "      <td>3.991625e+07</td>\n",
       "    </tr>\n",
       "  </tbody>\n",
       "</table>\n",
       "</div>"
      ],
      "text/plain": [
       "       visitors_arrival_in_person\n",
       "count                8.000000e+01\n",
       "mean                 8.765342e+06\n",
       "std                  9.979261e+06\n",
       "min                  0.000000e+00\n",
       "25%                  1.302514e+06\n",
       "50%                  4.783148e+06\n",
       "75%                  1.320156e+07\n",
       "max                  3.991625e+07"
      ]
     },
     "execution_count": 51,
     "metadata": {},
     "output_type": "execute_result"
    }
   ],
   "source": [
    "asean_wisatawan_desc = asean_wisatawan.drop(columns='year')\n",
    "\n",
    "description = asean_wisatawan_desc.describe()\n",
    "description"
   ]
  },
  {
   "cell_type": "code",
   "execution_count": 52,
   "id": "2bafcdde-06de-4321-b06c-44789e086d01",
   "metadata": {},
   "outputs": [
    {
     "data": {
      "text/html": [
       "<div>\n",
       "<style scoped>\n",
       "    .dataframe tbody tr th:only-of-type {\n",
       "        vertical-align: middle;\n",
       "    }\n",
       "\n",
       "    .dataframe tbody tr th {\n",
       "        vertical-align: top;\n",
       "    }\n",
       "\n",
       "    .dataframe thead th {\n",
       "        text-align: right;\n",
       "    }\n",
       "</style>\n",
       "<table border=\"1\" class=\"dataframe\">\n",
       "  <thead>\n",
       "    <tr style=\"text-align: right;\">\n",
       "      <th></th>\n",
       "      <th>country</th>\n",
       "      <th>jumlah_kunjungan_per_orang</th>\n",
       "    </tr>\n",
       "  </thead>\n",
       "  <tbody>\n",
       "    <tr>\n",
       "      <th>8</th>\n",
       "      <td>Thailand</td>\n",
       "      <td>194380393</td>\n",
       "    </tr>\n",
       "    <tr>\n",
       "      <th>4</th>\n",
       "      <td>Malaysia</td>\n",
       "      <td>144898654</td>\n",
       "    </tr>\n",
       "    <tr>\n",
       "      <th>7</th>\n",
       "      <td>Singapore</td>\n",
       "      <td>96060065</td>\n",
       "    </tr>\n",
       "    <tr>\n",
       "      <th>2</th>\n",
       "      <td>Indonesia</td>\n",
       "      <td>78964822</td>\n",
       "    </tr>\n",
       "    <tr>\n",
       "      <th>9</th>\n",
       "      <td>Vietnam</td>\n",
       "      <td>71736420</td>\n",
       "    </tr>\n",
       "    <tr>\n",
       "      <th>6</th>\n",
       "      <td>Philippines</td>\n",
       "      <td>37637458</td>\n",
       "    </tr>\n",
       "    <tr>\n",
       "      <th>1</th>\n",
       "      <td>Cambodia</td>\n",
       "      <td>31980033</td>\n",
       "    </tr>\n",
       "    <tr>\n",
       "      <th>3</th>\n",
       "      <td>Laos</td>\n",
       "      <td>23947885</td>\n",
       "    </tr>\n",
       "    <tr>\n",
       "      <th>5</th>\n",
       "      <td>Myanmar</td>\n",
       "      <td>20212666</td>\n",
       "    </tr>\n",
       "    <tr>\n",
       "      <th>0</th>\n",
       "      <td>Brunei Darussalam</td>\n",
       "      <td>1408926</td>\n",
       "    </tr>\n",
       "  </tbody>\n",
       "</table>\n",
       "</div>"
      ],
      "text/plain": [
       "             country  jumlah_kunjungan_per_orang\n",
       "8           Thailand                   194380393\n",
       "4           Malaysia                   144898654\n",
       "7          Singapore                    96060065\n",
       "2          Indonesia                    78964822\n",
       "9            Vietnam                    71736420\n",
       "6        Philippines                    37637458\n",
       "1           Cambodia                    31980033\n",
       "3               Laos                    23947885\n",
       "5            Myanmar                    20212666\n",
       "0  Brunei Darussalam                     1408926"
      ]
     },
     "execution_count": 52,
     "metadata": {},
     "output_type": "execute_result"
    }
   ],
   "source": [
    "asean_visitor = asean_wisatawan[asean_wisatawan['year'] == 2022] \n",
    "asean_visitor = asean_wisatawan.groupby('country').agg(jumlah_kunjungan_per_orang= ('visitors_arrival_in_person', 'sum')).reset_index()\n",
    "asean_visitor.sort_values(by = 'jumlah_kunjungan_per_orang', ascending=False)\n",
    "\n",
    "# Pada tahun 2022, Thailand, Malaysia, dan Singapore berada di atas Indonesia dalam jumlah wisatawan asing. Tak hanya di tahun tersebut \n",
    "# di tahun sebelum-sebelumnya juga sering kali 3 negara tersebut memimpin dalam jumlah wisatawan asing. Hal ini artinya daya tarik wisata\n",
    "# Indonesia masih kurang."
   ]
  },
  {
   "cell_type": "code",
   "execution_count": 53,
   "id": "dac18950-f364-407e-9de0-2237b24f33de",
   "metadata": {},
   "outputs": [
    {
     "name": "stdout",
     "output_type": "stream",
     "text": [
      "Highest number of visitors in ASEAN:\n",
      "country                       Thailand\n",
      "year                              2019\n",
      "visitors_arrival_in_person    39916251\n",
      "Name: 68, dtype: object\n",
      "-----\n",
      "Highest number of visitors from Indonesia in ASEAN:\n",
      "country                       Indonesia\n",
      "year                               2019\n",
      "visitors_arrival_in_person     16106954\n",
      "Name: 20, dtype: object\n"
     ]
    }
   ],
   "source": [
    "highest_wisman_asean = asean_wisatawan.loc[asean_wisatawan['visitors_arrival_in_person'].idxmax()]\n",
    "print(\"Highest number of visitors in ASEAN:\")\n",
    "print(highest_wisman_asean)\n",
    "print('-----')\n",
    "indoensia_asean = asean_wisatawan[asean_wisatawan['country'] == 'Indonesia']\n",
    "highest_indoensia_asean = indoensia_asean.loc[indoensia_asean['visitors_arrival_in_person'].idxmax()]\n",
    "\n",
    "print(\"Highest number of visitors from Indonesia in ASEAN:\")\n",
    "print(highest_indoensia_asean)\n",
    "\n",
    "# Dalam kurun waktu 2015-2022, Thailand menjadi negara paling sering dikunjungi oleh wisatawa asing. Thailand pernah mencatat jumlah wisatawan asing \n",
    "# paling tinggi hingga 39.9 juta pada tahun 2019. Sedangkan Indonesia paling tinggi hanya 16 juta orang. "
   ]
  },
  {
   "cell_type": "markdown",
   "id": "39fcf231-9b38-4dbd-af9f-7cbffa583cb7",
   "metadata": {},
   "source": [
    "### Status Pariwisata dan Daya Tarik Wisata di Indonesia\n",
    "Destinasi Pariwisata Super Prioritas (DPSP), Destinasi Pariwisata Nasional (DPN), Kawasan Pengembangan Pariwisata Nasional (KPPN), Kawasan Strategis Pariwisata Nasional (KSPN)"
   ]
  },
  {
   "cell_type": "code",
   "execution_count": 54,
   "id": "7076f316-5c92-4bea-9e11-af1a6d2b9616",
   "metadata": {},
   "outputs": [
    {
     "data": {
      "text/html": [
       "<div>\n",
       "<style scoped>\n",
       "    .dataframe tbody tr th:only-of-type {\n",
       "        vertical-align: middle;\n",
       "    }\n",
       "\n",
       "    .dataframe tbody tr th {\n",
       "        vertical-align: top;\n",
       "    }\n",
       "\n",
       "    .dataframe thead th {\n",
       "        text-align: right;\n",
       "    }\n",
       "</style>\n",
       "<table border=\"1\" class=\"dataframe\">\n",
       "  <thead>\n",
       "    <tr style=\"text-align: right;\">\n",
       "      <th></th>\n",
       "      <th>id</th>\n",
       "      <th>provinsi</th>\n",
       "      <th>jenis</th>\n",
       "      <th>nama_pariwisata</th>\n",
       "      <th>latitude</th>\n",
       "      <th>longitude</th>\n",
       "      <th>lebar</th>\n",
       "      <th>tinggi</th>\n",
       "      <th>kemiringan</th>\n",
       "    </tr>\n",
       "  </thead>\n",
       "  <tbody>\n",
       "    <tr>\n",
       "      <th>0</th>\n",
       "      <td>1</td>\n",
       "      <td>ACEH</td>\n",
       "      <td>DPN</td>\n",
       "      <td>Bromo Malang dan sekitarnya</td>\n",
       "      <td>-7.716435</td>\n",
       "      <td>112.642822</td>\n",
       "      <td>80000.0</td>\n",
       "      <td>90000.0</td>\n",
       "      <td>0.0</td>\n",
       "    </tr>\n",
       "    <tr>\n",
       "      <th>1</th>\n",
       "      <td>25</td>\n",
       "      <td>BALI</td>\n",
       "      <td>DPN</td>\n",
       "      <td>DPN IJEN-ALASPURWO dan sekitarnya</td>\n",
       "      <td>-8.157118</td>\n",
       "      <td>113.895264</td>\n",
       "      <td>60000.0</td>\n",
       "      <td>70000.0</td>\n",
       "      <td>100.0</td>\n",
       "    </tr>\n",
       "    <tr>\n",
       "      <th>2</th>\n",
       "      <td>48</td>\n",
       "      <td>BANTEN</td>\n",
       "      <td>DPN</td>\n",
       "      <td>DPN MERAUKE-WAZUR dan sekitarnya</td>\n",
       "      <td>-7.863382</td>\n",
       "      <td>139.152832</td>\n",
       "      <td>120000.0</td>\n",
       "      <td>200000.0</td>\n",
       "      <td>0.0</td>\n",
       "    </tr>\n",
       "    <tr>\n",
       "      <th>3</th>\n",
       "      <td>16</td>\n",
       "      <td>BENGKULU</td>\n",
       "      <td>DPN</td>\n",
       "      <td>DPN NATUNA-ANAMBAS dan sekitarnya</td>\n",
       "      <td>3.370856</td>\n",
       "      <td>107.105713</td>\n",
       "      <td>180000.0</td>\n",
       "      <td>49000.0</td>\n",
       "      <td>65.0</td>\n",
       "    </tr>\n",
       "    <tr>\n",
       "      <th>4</th>\n",
       "      <td>17</td>\n",
       "      <td>DKI JAKARTA</td>\n",
       "      <td>DPN</td>\n",
       "      <td>DPN BENGKULU-ENGGANO dan sekitarnya</td>\n",
       "      <td>-4.017699</td>\n",
       "      <td>102.392578</td>\n",
       "      <td>190000.0</td>\n",
       "      <td>110000.0</td>\n",
       "      <td>170.0</td>\n",
       "    </tr>\n",
       "  </tbody>\n",
       "</table>\n",
       "</div>"
      ],
      "text/plain": [
       "   id     provinsi jenis                      nama_pariwisata  latitude  \\\n",
       "0   1         ACEH   DPN          Bromo Malang dan sekitarnya -7.716435   \n",
       "1  25         BALI   DPN    DPN IJEN-ALASPURWO dan sekitarnya -8.157118   \n",
       "2  48       BANTEN   DPN     DPN MERAUKE-WAZUR dan sekitarnya -7.863382   \n",
       "3  16     BENGKULU   DPN    DPN NATUNA-ANAMBAS dan sekitarnya  3.370856   \n",
       "4  17  DKI JAKARTA   DPN  DPN BENGKULU-ENGGANO dan sekitarnya -4.017699   \n",
       "\n",
       "    longitude     lebar    tinggi  kemiringan  \n",
       "0  112.642822   80000.0   90000.0         0.0  \n",
       "1  113.895264   60000.0   70000.0       100.0  \n",
       "2  139.152832  120000.0  200000.0         0.0  \n",
       "3  107.105713  180000.0   49000.0        65.0  \n",
       "4  102.392578  190000.0  110000.0       170.0  "
      ]
     },
     "execution_count": 54,
     "metadata": {},
     "output_type": "execute_result"
    }
   ],
   "source": [
    "status_pariwisata.head()"
   ]
  },
  {
   "cell_type": "code",
   "execution_count": 55,
   "id": "c29bf4f1-559f-4125-b8a7-6aa2ed0131de",
   "metadata": {},
   "outputs": [
    {
     "data": {
      "text/html": [
       "<div>\n",
       "<style scoped>\n",
       "    .dataframe tbody tr th:only-of-type {\n",
       "        vertical-align: middle;\n",
       "    }\n",
       "\n",
       "    .dataframe tbody tr th {\n",
       "        vertical-align: top;\n",
       "    }\n",
       "\n",
       "    .dataframe thead th {\n",
       "        text-align: right;\n",
       "    }\n",
       "</style>\n",
       "<table border=\"1\" class=\"dataframe\">\n",
       "  <thead>\n",
       "    <tr style=\"text-align: right;\">\n",
       "      <th></th>\n",
       "      <th>jenis</th>\n",
       "      <th>jumlah_per_jenis_pariwisata</th>\n",
       "    </tr>\n",
       "  </thead>\n",
       "  <tbody>\n",
       "    <tr>\n",
       "      <th>0</th>\n",
       "      <td>DPN</td>\n",
       "      <td>49</td>\n",
       "    </tr>\n",
       "    <tr>\n",
       "      <th>1</th>\n",
       "      <td>DPSP</td>\n",
       "      <td>5</td>\n",
       "    </tr>\n",
       "    <tr>\n",
       "      <th>2</th>\n",
       "      <td>KPPN</td>\n",
       "      <td>220</td>\n",
       "    </tr>\n",
       "    <tr>\n",
       "      <th>3</th>\n",
       "      <td>KSPN</td>\n",
       "      <td>88</td>\n",
       "    </tr>\n",
       "  </tbody>\n",
       "</table>\n",
       "</div>"
      ],
      "text/plain": [
       "  jenis  jumlah_per_jenis_pariwisata\n",
       "0   DPN                           49\n",
       "1  DPSP                            5\n",
       "2  KPPN                          220\n",
       "3  KSPN                           88"
      ]
     },
     "execution_count": 55,
     "metadata": {},
     "output_type": "execute_result"
    }
   ],
   "source": [
    "st_par_jenis = status_pariwisata.groupby('jenis').agg(jumlah_per_jenis_pariwisata = ('nama_pariwisata', 'count')).reset_index()\n",
    "st_par_jenis"
   ]
  },
  {
   "cell_type": "code",
   "execution_count": 56,
   "id": "381a32df-50d9-4341-a702-a3bd086e7011",
   "metadata": {},
   "outputs": [
    {
     "data": {
      "text/html": [
       "<div>\n",
       "<style scoped>\n",
       "    .dataframe tbody tr th:only-of-type {\n",
       "        vertical-align: middle;\n",
       "    }\n",
       "\n",
       "    .dataframe tbody tr th {\n",
       "        vertical-align: top;\n",
       "    }\n",
       "\n",
       "    .dataframe thead th {\n",
       "        text-align: right;\n",
       "    }\n",
       "</style>\n",
       "<table border=\"1\" class=\"dataframe\">\n",
       "  <thead>\n",
       "    <tr style=\"text-align: right;\">\n",
       "      <th></th>\n",
       "      <th>nama_pariwisata</th>\n",
       "      <th>provinsi</th>\n",
       "    </tr>\n",
       "  </thead>\n",
       "  <tbody>\n",
       "    <tr>\n",
       "      <th>49</th>\n",
       "      <td>DPSP Borobudur</td>\n",
       "      <td>JAWA TENGAH</td>\n",
       "    </tr>\n",
       "    <tr>\n",
       "      <th>50</th>\n",
       "      <td>DPSP Mandalika</td>\n",
       "      <td>NUSA TENGGARA BARAT</td>\n",
       "    </tr>\n",
       "    <tr>\n",
       "      <th>51</th>\n",
       "      <td>DPSP Labuan Bajo</td>\n",
       "      <td>NUSA TENGGARA TIMUR</td>\n",
       "    </tr>\n",
       "    <tr>\n",
       "      <th>52</th>\n",
       "      <td>DPSP Likupang</td>\n",
       "      <td>SULAWESI UTARA</td>\n",
       "    </tr>\n",
       "    <tr>\n",
       "      <th>53</th>\n",
       "      <td>DPSP Danau Toba</td>\n",
       "      <td>SUMATERA UTARA</td>\n",
       "    </tr>\n",
       "  </tbody>\n",
       "</table>\n",
       "</div>"
      ],
      "text/plain": [
       "     nama_pariwisata             provinsi\n",
       "49    DPSP Borobudur          JAWA TENGAH\n",
       "50    DPSP Mandalika  NUSA TENGGARA BARAT\n",
       "51  DPSP Labuan Bajo  NUSA TENGGARA TIMUR\n",
       "52     DPSP Likupang       SULAWESI UTARA\n",
       "53   DPSP Danau Toba       SUMATERA UTARA"
      ]
     },
     "execution_count": 56,
     "metadata": {},
     "output_type": "execute_result"
    }
   ],
   "source": [
    "st_par_prov_dpsp = status_pariwisata[status_pariwisata['jenis']== 'DPSP']\n",
    "st_par_prov_dpsp[['nama_pariwisata', 'provinsi']]\n",
    "\n",
    "# DPSP hanya ada 5, dimana terdapat di berbagai titik di Indonesia, yaitu Borobudur di Jawa Tengah, Mandalika di Nusa Tenggara Barat, dan Labuan Bajo \n",
    "# di Nusa Tenggara Timur, Likupang di Sulawesi Utara, dan Danau Toba di Sumatera Utara."
   ]
  },
  {
   "cell_type": "code",
   "execution_count": 57,
   "id": "55b242dc-bda1-4b01-87fc-e0afb80bca63",
   "metadata": {},
   "outputs": [
    {
     "data": {
      "text/html": [
       "<div>\n",
       "<style scoped>\n",
       "    .dataframe tbody tr th:only-of-type {\n",
       "        vertical-align: middle;\n",
       "    }\n",
       "\n",
       "    .dataframe tbody tr th {\n",
       "        vertical-align: top;\n",
       "    }\n",
       "\n",
       "    .dataframe thead th {\n",
       "        text-align: right;\n",
       "    }\n",
       "</style>\n",
       "<table border=\"1\" class=\"dataframe\">\n",
       "  <thead>\n",
       "    <tr style=\"text-align: right;\">\n",
       "      <th></th>\n",
       "      <th>provinsi</th>\n",
       "      <th>jenis</th>\n",
       "      <th>jumlah_per_jenis_pariwisata</th>\n",
       "    </tr>\n",
       "  </thead>\n",
       "  <tbody>\n",
       "    <tr>\n",
       "      <th>63</th>\n",
       "      <td>NUSA TENGGARA TIMUR</td>\n",
       "      <td>DPN</td>\n",
       "      <td>5</td>\n",
       "    </tr>\n",
       "    <tr>\n",
       "      <th>67</th>\n",
       "      <td>PAPUA</td>\n",
       "      <td>DPN</td>\n",
       "      <td>4</td>\n",
       "    </tr>\n",
       "    <tr>\n",
       "      <th>41</th>\n",
       "      <td>KALIMANTAN TIMUR</td>\n",
       "      <td>DPN</td>\n",
       "      <td>3</td>\n",
       "    </tr>\n",
       "    <tr>\n",
       "      <th>23</th>\n",
       "      <td>JAWA BARAT</td>\n",
       "      <td>DPN</td>\n",
       "      <td>3</td>\n",
       "    </tr>\n",
       "    <tr>\n",
       "      <th>26</th>\n",
       "      <td>JAWA TENGAH</td>\n",
       "      <td>DPN</td>\n",
       "      <td>3</td>\n",
       "    </tr>\n",
       "  </tbody>\n",
       "</table>\n",
       "</div>"
      ],
      "text/plain": [
       "               provinsi jenis  jumlah_per_jenis_pariwisata\n",
       "63  NUSA TENGGARA TIMUR   DPN                            5\n",
       "67                PAPUA   DPN                            4\n",
       "41     KALIMANTAN TIMUR   DPN                            3\n",
       "23           JAWA BARAT   DPN                            3\n",
       "26          JAWA TENGAH   DPN                            3"
      ]
     },
     "execution_count": 57,
     "metadata": {},
     "output_type": "execute_result"
    }
   ],
   "source": [
    "st_par_prov_jenis = status_pariwisata.groupby(['provinsi', 'jenis']).agg(jumlah_per_jenis_pariwisata = ('nama_pariwisata', 'count')).reset_index()\n",
    "st_prov_jumlah_dpn = st_par_prov_jenis[st_par_prov_jenis['jenis']== 'DPN']\n",
    "st_prov_jumlah_dpn.sort_values(by ='jumlah_per_jenis_pariwisata', ascending=False).head(5)\n",
    "\n",
    "# NTT menjadi provinsi dengan jumlah DPN terbanyak di Indonesia"
   ]
  },
  {
   "cell_type": "code",
   "execution_count": 58,
   "id": "01a502e8-36bb-43b6-a8cb-dffa02be7cee",
   "metadata": {},
   "outputs": [
    {
     "data": {
      "text/html": [
       "<div>\n",
       "<style scoped>\n",
       "    .dataframe tbody tr th:only-of-type {\n",
       "        vertical-align: middle;\n",
       "    }\n",
       "\n",
       "    .dataframe tbody tr th {\n",
       "        vertical-align: top;\n",
       "    }\n",
       "\n",
       "    .dataframe thead th {\n",
       "        text-align: right;\n",
       "    }\n",
       "</style>\n",
       "<table border=\"1\" class=\"dataframe\">\n",
       "  <thead>\n",
       "    <tr style=\"text-align: right;\">\n",
       "      <th></th>\n",
       "      <th>provinsi</th>\n",
       "      <th>jenis</th>\n",
       "      <th>jumlah_per_jenis_pariwisata</th>\n",
       "    </tr>\n",
       "  </thead>\n",
       "  <tbody>\n",
       "    <tr>\n",
       "      <th>68</th>\n",
       "      <td>PAPUA</td>\n",
       "      <td>KPPN</td>\n",
       "      <td>16</td>\n",
       "    </tr>\n",
       "    <tr>\n",
       "      <th>28</th>\n",
       "      <td>JAWA TENGAH</td>\n",
       "      <td>KPPN</td>\n",
       "      <td>15</td>\n",
       "    </tr>\n",
       "    <tr>\n",
       "      <th>65</th>\n",
       "      <td>NUSA TENGGARA TIMUR</td>\n",
       "      <td>KPPN</td>\n",
       "      <td>13</td>\n",
       "    </tr>\n",
       "    <tr>\n",
       "      <th>4</th>\n",
       "      <td>BALI</td>\n",
       "      <td>KPPN</td>\n",
       "      <td>11</td>\n",
       "    </tr>\n",
       "    <tr>\n",
       "      <th>31</th>\n",
       "      <td>JAWA TIMUR</td>\n",
       "      <td>KPPN</td>\n",
       "      <td>11</td>\n",
       "    </tr>\n",
       "  </tbody>\n",
       "</table>\n",
       "</div>"
      ],
      "text/plain": [
       "               provinsi jenis  jumlah_per_jenis_pariwisata\n",
       "68                PAPUA  KPPN                           16\n",
       "28          JAWA TENGAH  KPPN                           15\n",
       "65  NUSA TENGGARA TIMUR  KPPN                           13\n",
       "4                  BALI  KPPN                           11\n",
       "31           JAWA TIMUR  KPPN                           11"
      ]
     },
     "execution_count": 58,
     "metadata": {},
     "output_type": "execute_result"
    }
   ],
   "source": [
    "st_par_prov_jenis = status_pariwisata.groupby(['provinsi', 'jenis']).agg(jumlah_per_jenis_pariwisata = ('nama_pariwisata', 'count')).reset_index()\n",
    "st_prov_jumlah_kppn = st_par_prov_jenis[st_par_prov_jenis['jenis']== 'KPPN']\n",
    "st_prov_jumlah_kppn.sort_values(by ='jumlah_per_jenis_pariwisata', ascending=False).head(5)\n",
    "\n",
    "# Papua menjadi provinsi dengan jumlah KPPN terbanyak di Indonesia yaitu 16 KPPN, kemudian Jawa Tengah, NTT, Bali, dan Jawa Timur."
   ]
  },
  {
   "cell_type": "code",
   "execution_count": 59,
   "id": "97fff619-c80f-480f-8eb5-c3596e4e41f6",
   "metadata": {},
   "outputs": [
    {
     "data": {
      "text/html": [
       "<div>\n",
       "<style scoped>\n",
       "    .dataframe tbody tr th:only-of-type {\n",
       "        vertical-align: middle;\n",
       "    }\n",
       "\n",
       "    .dataframe tbody tr th {\n",
       "        vertical-align: top;\n",
       "    }\n",
       "\n",
       "    .dataframe thead th {\n",
       "        text-align: right;\n",
       "    }\n",
       "</style>\n",
       "<table border=\"1\" class=\"dataframe\">\n",
       "  <thead>\n",
       "    <tr style=\"text-align: right;\">\n",
       "      <th></th>\n",
       "      <th>provinsi</th>\n",
       "      <th>jenis</th>\n",
       "      <th>jumlah_per_jenis_pariwisata</th>\n",
       "    </tr>\n",
       "  </thead>\n",
       "  <tbody>\n",
       "    <tr>\n",
       "      <th>5</th>\n",
       "      <td>BALI</td>\n",
       "      <td>KSPN</td>\n",
       "      <td>12</td>\n",
       "    </tr>\n",
       "    <tr>\n",
       "      <th>13</th>\n",
       "      <td>DI YOGYAKARTA</td>\n",
       "      <td>KSPN</td>\n",
       "      <td>6</td>\n",
       "    </tr>\n",
       "    <tr>\n",
       "      <th>69</th>\n",
       "      <td>PAPUA</td>\n",
       "      <td>KSPN</td>\n",
       "      <td>6</td>\n",
       "    </tr>\n",
       "    <tr>\n",
       "      <th>25</th>\n",
       "      <td>JAWA BARAT</td>\n",
       "      <td>KSPN</td>\n",
       "      <td>6</td>\n",
       "    </tr>\n",
       "    <tr>\n",
       "      <th>62</th>\n",
       "      <td>NUSA TENGGARA BARAT</td>\n",
       "      <td>KSPN</td>\n",
       "      <td>5</td>\n",
       "    </tr>\n",
       "  </tbody>\n",
       "</table>\n",
       "</div>"
      ],
      "text/plain": [
       "               provinsi jenis  jumlah_per_jenis_pariwisata\n",
       "5                  BALI  KSPN                           12\n",
       "13        DI YOGYAKARTA  KSPN                            6\n",
       "69                PAPUA  KSPN                            6\n",
       "25           JAWA BARAT  KSPN                            6\n",
       "62  NUSA TENGGARA BARAT  KSPN                            5"
      ]
     },
     "execution_count": 59,
     "metadata": {},
     "output_type": "execute_result"
    }
   ],
   "source": [
    "st_par_prov_jenis = status_pariwisata.groupby(['provinsi', 'jenis']).agg(jumlah_per_jenis_pariwisata = ('nama_pariwisata', 'count')).reset_index()\n",
    "st_prov_jumlah_kspn = st_par_prov_jenis[st_par_prov_jenis['jenis']== 'KSPN']\n",
    "st_prov_jumlah_kspn.sort_values(by ='jumlah_per_jenis_pariwisata', ascending=False).head(5)\n",
    "\n",
    "# Bali menjadi provinsi dengan jumlah KSPN terbanyak di Indonesia yaitu 12 KSPN, kemudian DI Yogyakarta, Papua, Jawa Barat, dan NTB."
   ]
  },
  {
   "cell_type": "code",
   "execution_count": 60,
   "id": "c4e6d48c-ae4a-43b5-a09f-384298eaae16",
   "metadata": {},
   "outputs": [
    {
     "data": {
      "text/html": [
       "<div>\n",
       "<style scoped>\n",
       "    .dataframe tbody tr th:only-of-type {\n",
       "        vertical-align: middle;\n",
       "    }\n",
       "\n",
       "    .dataframe tbody tr th {\n",
       "        vertical-align: top;\n",
       "    }\n",
       "\n",
       "    .dataframe thead th {\n",
       "        text-align: right;\n",
       "    }\n",
       "</style>\n",
       "<table border=\"1\" class=\"dataframe\">\n",
       "  <thead>\n",
       "    <tr style=\"text-align: right;\">\n",
       "      <th></th>\n",
       "      <th>provinsi</th>\n",
       "      <th>kabupaten_kota</th>\n",
       "      <th>nama_dtw</th>\n",
       "      <th>latitude</th>\n",
       "      <th>longitude</th>\n",
       "    </tr>\n",
       "  </thead>\n",
       "  <tbody>\n",
       "    <tr>\n",
       "      <th>0</th>\n",
       "      <td>ACEH</td>\n",
       "      <td>Kabupaten Aceh Barat</td>\n",
       "      <td>Kreatif kubu</td>\n",
       "      <td>-6.229747</td>\n",
       "      <td>106.829518</td>\n",
       "    </tr>\n",
       "    <tr>\n",
       "      <th>1</th>\n",
       "      <td>ACEH</td>\n",
       "      <td>Kabupaten Aceh Barat</td>\n",
       "      <td>Makam Pahlawan Nasional</td>\n",
       "      <td>4.424310</td>\n",
       "      <td>96.180797</td>\n",
       "    </tr>\n",
       "    <tr>\n",
       "      <th>2</th>\n",
       "      <td>ACEH</td>\n",
       "      <td>Kabupaten Aceh Barat</td>\n",
       "      <td>Water Boom Peunaga Pasi</td>\n",
       "      <td>4.127504</td>\n",
       "      <td>4.127504</td>\n",
       "    </tr>\n",
       "    <tr>\n",
       "      <th>3</th>\n",
       "      <td>ACEH</td>\n",
       "      <td>Kabupaten Aceh Barat</td>\n",
       "      <td>Wisata Adventure dan Air Terjun Pungki</td>\n",
       "      <td>4.446495</td>\n",
       "      <td>96.168558</td>\n",
       "    </tr>\n",
       "    <tr>\n",
       "      <th>4</th>\n",
       "      <td>ACEH</td>\n",
       "      <td>Kabupaten Aceh Barat</td>\n",
       "      <td>wisata alam pantai suak ie beuso</td>\n",
       "      <td>4.342710</td>\n",
       "      <td>95.913620</td>\n",
       "    </tr>\n",
       "  </tbody>\n",
       "</table>\n",
       "</div>"
      ],
      "text/plain": [
       "  provinsi        kabupaten_kota                                nama_dtw  \\\n",
       "0     ACEH  Kabupaten Aceh Barat                            Kreatif kubu   \n",
       "1     ACEH  Kabupaten Aceh Barat                 Makam Pahlawan Nasional   \n",
       "2     ACEH  Kabupaten Aceh Barat                 Water Boom Peunaga Pasi   \n",
       "3     ACEH  Kabupaten Aceh Barat  Wisata Adventure dan Air Terjun Pungki   \n",
       "4     ACEH  Kabupaten Aceh Barat        wisata alam pantai suak ie beuso   \n",
       "\n",
       "   latitude   longitude  \n",
       "0 -6.229747  106.829518  \n",
       "1  4.424310   96.180797  \n",
       "2  4.127504    4.127504  \n",
       "3  4.446495   96.168558  \n",
       "4  4.342710   95.913620  "
      ]
     },
     "execution_count": 60,
     "metadata": {},
     "output_type": "execute_result"
    }
   ],
   "source": [
    "dtw_sisparnas.head()"
   ]
  },
  {
   "cell_type": "code",
   "execution_count": 61,
   "id": "cddb5db2-0bd8-4c0d-8daa-7b400f2176aa",
   "metadata": {},
   "outputs": [
    {
     "name": "stdout",
     "output_type": "stream",
     "text": [
      "<class 'pandas.core.frame.DataFrame'>\n",
      "RangeIndex: 8494 entries, 0 to 8493\n",
      "Data columns (total 5 columns):\n",
      " #   Column          Non-Null Count  Dtype  \n",
      "---  ------          --------------  -----  \n",
      " 0   provinsi        8494 non-null   object \n",
      " 1   kabupaten_kota  8494 non-null   object \n",
      " 2   nama_dtw        8494 non-null   object \n",
      " 3   latitude        8494 non-null   float64\n",
      " 4   longitude       8494 non-null   float64\n",
      "dtypes: float64(2), object(3)\n",
      "memory usage: 331.9+ KB\n"
     ]
    }
   ],
   "source": [
    "dtw_sisparnas.info()"
   ]
  },
  {
   "cell_type": "code",
   "execution_count": 62,
   "id": "ee8f7014-135a-4d1f-a6d3-497903bb5496",
   "metadata": {},
   "outputs": [
    {
     "data": {
      "text/html": [
       "<div>\n",
       "<style scoped>\n",
       "    .dataframe tbody tr th:only-of-type {\n",
       "        vertical-align: middle;\n",
       "    }\n",
       "\n",
       "    .dataframe tbody tr th {\n",
       "        vertical-align: top;\n",
       "    }\n",
       "\n",
       "    .dataframe thead th {\n",
       "        text-align: right;\n",
       "    }\n",
       "</style>\n",
       "<table border=\"1\" class=\"dataframe\">\n",
       "  <thead>\n",
       "    <tr style=\"text-align: right;\">\n",
       "      <th></th>\n",
       "      <th>provinsi</th>\n",
       "      <th>jumlah_dtw</th>\n",
       "    </tr>\n",
       "  </thead>\n",
       "  <tbody>\n",
       "    <tr>\n",
       "      <th>9</th>\n",
       "      <td>JAWA TENGAH</td>\n",
       "      <td>968</td>\n",
       "    </tr>\n",
       "    <tr>\n",
       "      <th>10</th>\n",
       "      <td>JAWA TIMUR</td>\n",
       "      <td>845</td>\n",
       "    </tr>\n",
       "    <tr>\n",
       "      <th>11</th>\n",
       "      <td>KALIMANTAN BARAT</td>\n",
       "      <td>691</td>\n",
       "    </tr>\n",
       "    <tr>\n",
       "      <th>33</th>\n",
       "      <td>SUMATERA UTARA</td>\n",
       "      <td>673</td>\n",
       "    </tr>\n",
       "    <tr>\n",
       "      <th>27</th>\n",
       "      <td>SULAWESI SELATAN</td>\n",
       "      <td>448</td>\n",
       "    </tr>\n",
       "  </tbody>\n",
       "</table>\n",
       "</div>"
      ],
      "text/plain": [
       "            provinsi  jumlah_dtw\n",
       "9        JAWA TENGAH         968\n",
       "10        JAWA TIMUR         845\n",
       "11  KALIMANTAN BARAT         691\n",
       "33    SUMATERA UTARA         673\n",
       "27  SULAWESI SELATAN         448"
      ]
     },
     "execution_count": 62,
     "metadata": {},
     "output_type": "execute_result"
    }
   ],
   "source": [
    "dtw_indonesia = dtw_sisparnas.groupby('provinsi').agg(jumlah_dtw = ('nama_dtw', 'count')).reset_index()\n",
    "dtw_indonesia.sort_values(by='jumlah_dtw', ascending=False).head(5)\n",
    "\n",
    "# Jawa Tengah dan Jawa Timur adalah provinsi di Pulau Jawa dengan jumlah objek Daya Tarik Wisata paling banyak di Indonesia. Banyaknya objek wisata\n",
    "# di provinsi pulau Jawa ini membuat daya tarik wisnus lebih besar. Kemudian terdapat provinsi Kalbar, Sumut, dan Sumsel."
   ]
  },
  {
   "cell_type": "code",
   "execution_count": 63,
   "id": "bb7a02e5-b38d-4882-9098-8d0306e4f54b",
   "metadata": {},
   "outputs": [
    {
     "data": {
      "text/plain": [
       "8494"
      ]
     },
     "execution_count": 63,
     "metadata": {},
     "output_type": "execute_result"
    }
   ],
   "source": [
    "dtw_indonesia['jumlah_dtw'].sum()\n",
    "\n",
    "# Indonesia memiliki 8494 objek daya tarik wisata yang tersebar diseluruh Indonesia."
   ]
  }
 ],
 "metadata": {
  "kernelspec": {
   "display_name": "Python 3 (ipykernel)",
   "language": "python",
   "name": "python3"
  },
  "language_info": {
   "codemirror_mode": {
    "name": "ipython",
    "version": 3
   },
   "file_extension": ".py",
   "mimetype": "text/x-python",
   "name": "python",
   "nbconvert_exporter": "python",
   "pygments_lexer": "ipython3",
   "version": "3.10.9"
  }
 },
 "nbformat": 4,
 "nbformat_minor": 5
}
